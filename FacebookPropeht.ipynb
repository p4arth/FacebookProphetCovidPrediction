{
  "nbformat": 4,
  "nbformat_minor": 0,
  "metadata": {
    "colab": {
      "name": "InternshipTask.ipynb",
      "provenance": []
    },
    "kernelspec": {
      "name": "python3",
      "display_name": "Python 3"
    },
    "language_info": {
      "name": "python"
    },
    "widgets": {
      "application/vnd.jupyter.widget-state+json": {
        "4aabe15a2f7b4209812d20ee0bcaae2b": {
          "model_module": "@jupyter-widgets/controls",
          "model_name": "HBoxModel",
          "state": {
            "_view_name": "HBoxView",
            "_dom_classes": [],
            "_model_name": "HBoxModel",
            "_view_module": "@jupyter-widgets/controls",
            "_model_module_version": "1.5.0",
            "_view_count": null,
            "_view_module_version": "1.5.0",
            "box_style": "",
            "layout": "IPY_MODEL_8918c1a6d97f4088b0c9098f11f18789",
            "_model_module": "@jupyter-widgets/controls",
            "children": [
              "IPY_MODEL_58b3a0d953a1493da1631930a71face9",
              "IPY_MODEL_e686fd073da643528b57924806dfa46f"
            ]
          }
        },
        "8918c1a6d97f4088b0c9098f11f18789": {
          "model_module": "@jupyter-widgets/base",
          "model_name": "LayoutModel",
          "state": {
            "_view_name": "LayoutView",
            "grid_template_rows": null,
            "right": null,
            "justify_content": null,
            "_view_module": "@jupyter-widgets/base",
            "overflow": null,
            "_model_module_version": "1.2.0",
            "_view_count": null,
            "flex_flow": null,
            "width": null,
            "min_width": null,
            "border": null,
            "align_items": null,
            "bottom": null,
            "_model_module": "@jupyter-widgets/base",
            "top": null,
            "grid_column": null,
            "overflow_y": null,
            "overflow_x": null,
            "grid_auto_flow": null,
            "grid_area": null,
            "grid_template_columns": null,
            "flex": null,
            "_model_name": "LayoutModel",
            "justify_items": null,
            "grid_row": null,
            "max_height": null,
            "align_content": null,
            "visibility": null,
            "align_self": null,
            "height": null,
            "min_height": null,
            "padding": null,
            "grid_auto_rows": null,
            "grid_gap": null,
            "max_width": null,
            "order": null,
            "_view_module_version": "1.2.0",
            "grid_template_areas": null,
            "object_position": null,
            "object_fit": null,
            "grid_auto_columns": null,
            "margin": null,
            "display": null,
            "left": null
          }
        },
        "58b3a0d953a1493da1631930a71face9": {
          "model_module": "@jupyter-widgets/controls",
          "model_name": "FloatProgressModel",
          "state": {
            "_view_name": "ProgressView",
            "style": "IPY_MODEL_f93a2479031442df9f9279cb3fa0d2ec",
            "_dom_classes": [],
            "description": "100%",
            "_model_name": "FloatProgressModel",
            "bar_style": "success",
            "max": 5,
            "_view_module": "@jupyter-widgets/controls",
            "_model_module_version": "1.5.0",
            "value": 5,
            "_view_count": null,
            "_view_module_version": "1.5.0",
            "orientation": "horizontal",
            "min": 0,
            "description_tooltip": null,
            "_model_module": "@jupyter-widgets/controls",
            "layout": "IPY_MODEL_587fe49274774e0da747d2e9f082de29"
          }
        },
        "e686fd073da643528b57924806dfa46f": {
          "model_module": "@jupyter-widgets/controls",
          "model_name": "HTMLModel",
          "state": {
            "_view_name": "HTMLView",
            "style": "IPY_MODEL_ff2603dd4e7b4e21a290175ac6a22ec9",
            "_dom_classes": [],
            "description": "",
            "_model_name": "HTMLModel",
            "placeholder": "​",
            "_view_module": "@jupyter-widgets/controls",
            "_model_module_version": "1.5.0",
            "value": " 5/5 [03:16&lt;00:00, 39.31s/it]",
            "_view_count": null,
            "_view_module_version": "1.5.0",
            "description_tooltip": null,
            "_model_module": "@jupyter-widgets/controls",
            "layout": "IPY_MODEL_a7a6565b9c724605ae2965c9a1846f15"
          }
        },
        "f93a2479031442df9f9279cb3fa0d2ec": {
          "model_module": "@jupyter-widgets/controls",
          "model_name": "ProgressStyleModel",
          "state": {
            "_view_name": "StyleView",
            "_model_name": "ProgressStyleModel",
            "description_width": "initial",
            "_view_module": "@jupyter-widgets/base",
            "_model_module_version": "1.5.0",
            "_view_count": null,
            "_view_module_version": "1.2.0",
            "bar_color": null,
            "_model_module": "@jupyter-widgets/controls"
          }
        },
        "587fe49274774e0da747d2e9f082de29": {
          "model_module": "@jupyter-widgets/base",
          "model_name": "LayoutModel",
          "state": {
            "_view_name": "LayoutView",
            "grid_template_rows": null,
            "right": null,
            "justify_content": null,
            "_view_module": "@jupyter-widgets/base",
            "overflow": null,
            "_model_module_version": "1.2.0",
            "_view_count": null,
            "flex_flow": null,
            "width": null,
            "min_width": null,
            "border": null,
            "align_items": null,
            "bottom": null,
            "_model_module": "@jupyter-widgets/base",
            "top": null,
            "grid_column": null,
            "overflow_y": null,
            "overflow_x": null,
            "grid_auto_flow": null,
            "grid_area": null,
            "grid_template_columns": null,
            "flex": null,
            "_model_name": "LayoutModel",
            "justify_items": null,
            "grid_row": null,
            "max_height": null,
            "align_content": null,
            "visibility": null,
            "align_self": null,
            "height": null,
            "min_height": null,
            "padding": null,
            "grid_auto_rows": null,
            "grid_gap": null,
            "max_width": null,
            "order": null,
            "_view_module_version": "1.2.0",
            "grid_template_areas": null,
            "object_position": null,
            "object_fit": null,
            "grid_auto_columns": null,
            "margin": null,
            "display": null,
            "left": null
          }
        },
        "ff2603dd4e7b4e21a290175ac6a22ec9": {
          "model_module": "@jupyter-widgets/controls",
          "model_name": "DescriptionStyleModel",
          "state": {
            "_view_name": "StyleView",
            "_model_name": "DescriptionStyleModel",
            "description_width": "",
            "_view_module": "@jupyter-widgets/base",
            "_model_module_version": "1.5.0",
            "_view_count": null,
            "_view_module_version": "1.2.0",
            "_model_module": "@jupyter-widgets/controls"
          }
        },
        "a7a6565b9c724605ae2965c9a1846f15": {
          "model_module": "@jupyter-widgets/base",
          "model_name": "LayoutModel",
          "state": {
            "_view_name": "LayoutView",
            "grid_template_rows": null,
            "right": null,
            "justify_content": null,
            "_view_module": "@jupyter-widgets/base",
            "overflow": null,
            "_model_module_version": "1.2.0",
            "_view_count": null,
            "flex_flow": null,
            "width": null,
            "min_width": null,
            "border": null,
            "align_items": null,
            "bottom": null,
            "_model_module": "@jupyter-widgets/base",
            "top": null,
            "grid_column": null,
            "overflow_y": null,
            "overflow_x": null,
            "grid_auto_flow": null,
            "grid_area": null,
            "grid_template_columns": null,
            "flex": null,
            "_model_name": "LayoutModel",
            "justify_items": null,
            "grid_row": null,
            "max_height": null,
            "align_content": null,
            "visibility": null,
            "align_self": null,
            "height": null,
            "min_height": null,
            "padding": null,
            "grid_auto_rows": null,
            "grid_gap": null,
            "max_width": null,
            "order": null,
            "_view_module_version": "1.2.0",
            "grid_template_areas": null,
            "object_position": null,
            "object_fit": null,
            "grid_auto_columns": null,
            "margin": null,
            "display": null,
            "left": null
          }
        }
      }
    }
  },
  "cells": [
    {
      "cell_type": "code",
      "metadata": {
        "id": "pc2UBptuxthS"
      },
      "source": [
        "# importing pandas\n",
        "import pandas as pd"
      ],
      "execution_count": 47,
      "outputs": []
    },
    {
      "cell_type": "code",
      "metadata": {
        "id": "nEmGRRwex6Tv"
      },
      "source": [
        "# Loading the given data\n",
        "df = pd.read_csv('/content/drive/MyDrive/owid-covid-data.csv')\n",
        "df['date'] = pd.to_datetime(df['date'])"
      ],
      "execution_count": 48,
      "outputs": []
    },
    {
      "cell_type": "code",
      "metadata": {
        "id": "uikSyOGfZD-J"
      },
      "source": [
        "# Cleaning the data as it had some irregularities\n",
        "df = df[df.location != 'World']\n",
        "df = df[df.location != 'Europe']\n",
        "df = df[df.location != 'Africa']\n",
        "df = df[df.location != 'North America']\n",
        "df = df[df.location != 'Asia']\n",
        "df = df[df.location != 'South America']\n",
        "df = df[df.location != 'European Union']"
      ],
      "execution_count": 49,
      "outputs": []
    },
    {
      "cell_type": "code",
      "metadata": {
        "id": "DqCv_T2QIJNq"
      },
      "source": [
        "df1 = df.copy()"
      ],
      "execution_count": 50,
      "outputs": []
    },
    {
      "cell_type": "markdown",
      "metadata": {
        "id": "e3oGtqrdLJR7"
      },
      "source": [
        "#**TASK 1: Finding countries with most number of deaths and cases**"
      ]
    },
    {
      "cell_type": "code",
      "metadata": {
        "id": "MOffp3tpINx7"
      },
      "source": [
        "# Grouping by location\n",
        "df1 = df1.groupby('location').sum()"
      ],
      "execution_count": 51,
      "outputs": []
    },
    {
      "cell_type": "code",
      "metadata": {
        "colab": {
          "base_uri": "https://localhost:8080/",
          "height": 252
        },
        "id": "UeNhq3XJITX6",
        "outputId": "80d7e733-dab3-4939-e1fd-f493b1b12991"
      },
      "source": [
        "df1.head()"
      ],
      "execution_count": 52,
      "outputs": [
        {
          "output_type": "execute_result",
          "data": {
            "text/html": [
              "<div>\n",
              "<style scoped>\n",
              "    .dataframe tbody tr th:only-of-type {\n",
              "        vertical-align: middle;\n",
              "    }\n",
              "\n",
              "    .dataframe tbody tr th {\n",
              "        vertical-align: top;\n",
              "    }\n",
              "\n",
              "    .dataframe thead th {\n",
              "        text-align: right;\n",
              "    }\n",
              "</style>\n",
              "<table border=\"1\" class=\"dataframe\">\n",
              "  <thead>\n",
              "    <tr style=\"text-align: right;\">\n",
              "      <th></th>\n",
              "      <th>total_cases</th>\n",
              "      <th>new_cases</th>\n",
              "      <th>new_cases_smoothed</th>\n",
              "      <th>total_deaths</th>\n",
              "      <th>new_deaths</th>\n",
              "      <th>new_deaths_smoothed</th>\n",
              "      <th>total_cases_per_million</th>\n",
              "      <th>new_cases_per_million</th>\n",
              "      <th>new_cases_smoothed_per_million</th>\n",
              "      <th>total_deaths_per_million</th>\n",
              "      <th>new_deaths_per_million</th>\n",
              "      <th>new_deaths_smoothed_per_million</th>\n",
              "      <th>reproduction_rate</th>\n",
              "      <th>icu_patients</th>\n",
              "      <th>icu_patients_per_million</th>\n",
              "      <th>hosp_patients</th>\n",
              "      <th>hosp_patients_per_million</th>\n",
              "      <th>weekly_icu_admissions</th>\n",
              "      <th>weekly_icu_admissions_per_million</th>\n",
              "      <th>weekly_hosp_admissions</th>\n",
              "      <th>weekly_hosp_admissions_per_million</th>\n",
              "      <th>new_tests</th>\n",
              "      <th>total_tests</th>\n",
              "      <th>total_tests_per_thousand</th>\n",
              "      <th>new_tests_per_thousand</th>\n",
              "      <th>new_tests_smoothed</th>\n",
              "      <th>new_tests_smoothed_per_thousand</th>\n",
              "      <th>positive_rate</th>\n",
              "      <th>tests_per_case</th>\n",
              "      <th>total_vaccinations</th>\n",
              "      <th>people_vaccinated</th>\n",
              "      <th>people_fully_vaccinated</th>\n",
              "      <th>new_vaccinations</th>\n",
              "      <th>new_vaccinations_smoothed</th>\n",
              "      <th>total_vaccinations_per_hundred</th>\n",
              "      <th>people_vaccinated_per_hundred</th>\n",
              "      <th>people_fully_vaccinated_per_hundred</th>\n",
              "      <th>new_vaccinations_smoothed_per_million</th>\n",
              "      <th>stringency_index</th>\n",
              "      <th>population</th>\n",
              "      <th>population_density</th>\n",
              "      <th>median_age</th>\n",
              "      <th>aged_65_older</th>\n",
              "      <th>aged_70_older</th>\n",
              "      <th>gdp_per_capita</th>\n",
              "      <th>extreme_poverty</th>\n",
              "      <th>cardiovasc_death_rate</th>\n",
              "      <th>diabetes_prevalence</th>\n",
              "      <th>female_smokers</th>\n",
              "      <th>male_smokers</th>\n",
              "      <th>handwashing_facilities</th>\n",
              "      <th>hospital_beds_per_thousand</th>\n",
              "      <th>life_expectancy</th>\n",
              "      <th>human_development_index</th>\n",
              "      <th>excess_mortality</th>\n",
              "    </tr>\n",
              "    <tr>\n",
              "      <th>location</th>\n",
              "      <th></th>\n",
              "      <th></th>\n",
              "      <th></th>\n",
              "      <th></th>\n",
              "      <th></th>\n",
              "      <th></th>\n",
              "      <th></th>\n",
              "      <th></th>\n",
              "      <th></th>\n",
              "      <th></th>\n",
              "      <th></th>\n",
              "      <th></th>\n",
              "      <th></th>\n",
              "      <th></th>\n",
              "      <th></th>\n",
              "      <th></th>\n",
              "      <th></th>\n",
              "      <th></th>\n",
              "      <th></th>\n",
              "      <th></th>\n",
              "      <th></th>\n",
              "      <th></th>\n",
              "      <th></th>\n",
              "      <th></th>\n",
              "      <th></th>\n",
              "      <th></th>\n",
              "      <th></th>\n",
              "      <th></th>\n",
              "      <th></th>\n",
              "      <th></th>\n",
              "      <th></th>\n",
              "      <th></th>\n",
              "      <th></th>\n",
              "      <th></th>\n",
              "      <th></th>\n",
              "      <th></th>\n",
              "      <th></th>\n",
              "      <th></th>\n",
              "      <th></th>\n",
              "      <th></th>\n",
              "      <th></th>\n",
              "      <th></th>\n",
              "      <th></th>\n",
              "      <th></th>\n",
              "      <th></th>\n",
              "      <th></th>\n",
              "      <th></th>\n",
              "      <th></th>\n",
              "      <th></th>\n",
              "      <th></th>\n",
              "      <th></th>\n",
              "      <th></th>\n",
              "      <th></th>\n",
              "      <th></th>\n",
              "      <th></th>\n",
              "    </tr>\n",
              "  </thead>\n",
              "  <tbody>\n",
              "    <tr>\n",
              "      <th>Afghanistan</th>\n",
              "      <td>23934815.0</td>\n",
              "      <td>145996.0</td>\n",
              "      <td>144450.417</td>\n",
              "      <td>958484.0</td>\n",
              "      <td>6615.0</td>\n",
              "      <td>6464.991</td>\n",
              "      <td>6.148429e+05</td>\n",
              "      <td>3750.392</td>\n",
              "      <td>3710.683</td>\n",
              "      <td>24621.760</td>\n",
              "      <td>169.928</td>\n",
              "      <td>166.067</td>\n",
              "      <td>518.30</td>\n",
              "      <td>0.0</td>\n",
              "      <td>0.00</td>\n",
              "      <td>0.0</td>\n",
              "      <td>0.0</td>\n",
              "      <td>0.0</td>\n",
              "      <td>0.0</td>\n",
              "      <td>0.0</td>\n",
              "      <td>0.0</td>\n",
              "      <td>0.0</td>\n",
              "      <td>0.0</td>\n",
              "      <td>0.000</td>\n",
              "      <td>0.000</td>\n",
              "      <td>0.0</td>\n",
              "      <td>0.000</td>\n",
              "      <td>0.000</td>\n",
              "      <td>0.0</td>\n",
              "      <td>17640347.0</td>\n",
              "      <td>10086415.0</td>\n",
              "      <td>2368962.0</td>\n",
              "      <td>6874.0</td>\n",
              "      <td>1256269.0</td>\n",
              "      <td>45.33</td>\n",
              "      <td>25.93</td>\n",
              "      <td>6.09</td>\n",
              "      <td>32287.0</td>\n",
              "      <td>20843.08</td>\n",
              "      <td>2.032059e+10</td>\n",
              "      <td>28408.284</td>\n",
              "      <td>9709.2</td>\n",
              "      <td>1347.282</td>\n",
              "      <td>697.914</td>\n",
              "      <td>941681.214</td>\n",
              "      <td>0.0</td>\n",
              "      <td>311649.138</td>\n",
              "      <td>5005.98</td>\n",
              "      <td>0.0</td>\n",
              "      <td>0.0</td>\n",
              "      <td>19703.412</td>\n",
              "      <td>261.00</td>\n",
              "      <td>33841.26</td>\n",
              "      <td>266.742</td>\n",
              "      <td>0.00</td>\n",
              "    </tr>\n",
              "    <tr>\n",
              "      <th>Albania</th>\n",
              "      <td>27854884.0</td>\n",
              "      <td>132999.0</td>\n",
              "      <td>132891.428</td>\n",
              "      <td>525686.0</td>\n",
              "      <td>2457.0</td>\n",
              "      <td>2455.882</td>\n",
              "      <td>9.679229e+06</td>\n",
              "      <td>46215.498</td>\n",
              "      <td>46178.132</td>\n",
              "      <td>182669.404</td>\n",
              "      <td>853.705</td>\n",
              "      <td>853.393</td>\n",
              "      <td>499.96</td>\n",
              "      <td>0.0</td>\n",
              "      <td>0.00</td>\n",
              "      <td>0.0</td>\n",
              "      <td>0.0</td>\n",
              "      <td>0.0</td>\n",
              "      <td>0.0</td>\n",
              "      <td>0.0</td>\n",
              "      <td>0.0</td>\n",
              "      <td>737014.0</td>\n",
              "      <td>101667859.0</td>\n",
              "      <td>35328.322</td>\n",
              "      <td>256.105</td>\n",
              "      <td>728991.0</td>\n",
              "      <td>253.302</td>\n",
              "      <td>77.223</td>\n",
              "      <td>8901.1</td>\n",
              "      <td>65491739.0</td>\n",
              "      <td>30737014.0</td>\n",
              "      <td>20508508.0</td>\n",
              "      <td>808347.0</td>\n",
              "      <td>1107462.0</td>\n",
              "      <td>2275.74</td>\n",
              "      <td>1068.06</td>\n",
              "      <td>712.63</td>\n",
              "      <td>384815.0</td>\n",
              "      <td>30954.02</td>\n",
              "      <td>1.499334e+09</td>\n",
              "      <td>54637.791</td>\n",
              "      <td>19798.0</td>\n",
              "      <td>6870.948</td>\n",
              "      <td>4503.003</td>\n",
              "      <td>6149587.551</td>\n",
              "      <td>573.1</td>\n",
              "      <td>158485.595</td>\n",
              "      <td>5251.68</td>\n",
              "      <td>3699.1</td>\n",
              "      <td>26675.2</td>\n",
              "      <td>0.000</td>\n",
              "      <td>1505.69</td>\n",
              "      <td>40934.97</td>\n",
              "      <td>414.195</td>\n",
              "      <td>494.34</td>\n",
              "    </tr>\n",
              "    <tr>\n",
              "      <th>Algeria</th>\n",
              "      <td>36365515.0</td>\n",
              "      <td>168668.0</td>\n",
              "      <td>163891.992</td>\n",
              "      <td>1062733.0</td>\n",
              "      <td>4189.0</td>\n",
              "      <td>4097.141</td>\n",
              "      <td>8.292965e+05</td>\n",
              "      <td>3846.383</td>\n",
              "      <td>3737.475</td>\n",
              "      <td>24235.061</td>\n",
              "      <td>95.497</td>\n",
              "      <td>93.423</td>\n",
              "      <td>524.77</td>\n",
              "      <td>10254.0</td>\n",
              "      <td>233.84</td>\n",
              "      <td>0.0</td>\n",
              "      <td>0.0</td>\n",
              "      <td>0.0</td>\n",
              "      <td>0.0</td>\n",
              "      <td>0.0</td>\n",
              "      <td>0.0</td>\n",
              "      <td>0.0</td>\n",
              "      <td>0.0</td>\n",
              "      <td>0.000</td>\n",
              "      <td>0.000</td>\n",
              "      <td>0.0</td>\n",
              "      <td>0.000</td>\n",
              "      <td>0.000</td>\n",
              "      <td>0.0</td>\n",
              "      <td>3496309.0</td>\n",
              "      <td>3496309.0</td>\n",
              "      <td>724812.0</td>\n",
              "      <td>30.0</td>\n",
              "      <td>3363814.0</td>\n",
              "      <td>7.97</td>\n",
              "      <td>7.97</td>\n",
              "      <td>1.65</td>\n",
              "      <td>76712.0</td>\n",
              "      <td>35179.26</td>\n",
              "      <td>2.284639e+10</td>\n",
              "      <td>9038.308</td>\n",
              "      <td>15161.1</td>\n",
              "      <td>3235.931</td>\n",
              "      <td>2009.497</td>\n",
              "      <td>7249110.119</td>\n",
              "      <td>260.5</td>\n",
              "      <td>145027.644</td>\n",
              "      <td>3506.33</td>\n",
              "      <td>364.7</td>\n",
              "      <td>15838.4</td>\n",
              "      <td>43629.061</td>\n",
              "      <td>989.90</td>\n",
              "      <td>40054.48</td>\n",
              "      <td>389.708</td>\n",
              "      <td>0.00</td>\n",
              "    </tr>\n",
              "    <tr>\n",
              "      <th>Andorra</th>\n",
              "      <td>3234889.0</td>\n",
              "      <td>14655.0</td>\n",
              "      <td>14556.162</td>\n",
              "      <td>39847.0</td>\n",
              "      <td>127.0</td>\n",
              "      <td>127.026</td>\n",
              "      <td>4.186746e+07</td>\n",
              "      <td>189671.897</td>\n",
              "      <td>188392.445</td>\n",
              "      <td>515718.629</td>\n",
              "      <td>1643.664</td>\n",
              "      <td>1643.730</td>\n",
              "      <td>465.93</td>\n",
              "      <td>0.0</td>\n",
              "      <td>0.00</td>\n",
              "      <td>0.0</td>\n",
              "      <td>0.0</td>\n",
              "      <td>0.0</td>\n",
              "      <td>0.0</td>\n",
              "      <td>0.0</td>\n",
              "      <td>0.0</td>\n",
              "      <td>0.0</td>\n",
              "      <td>5447219.0</td>\n",
              "      <td>70500.473</td>\n",
              "      <td>0.000</td>\n",
              "      <td>79936.0</td>\n",
              "      <td>1034.571</td>\n",
              "      <td>16.464</td>\n",
              "      <td>3298.9</td>\n",
              "      <td>661827.0</td>\n",
              "      <td>420935.0</td>\n",
              "      <td>179434.0</td>\n",
              "      <td>4802.0</td>\n",
              "      <td>76689.0</td>\n",
              "      <td>856.56</td>\n",
              "      <td>544.80</td>\n",
              "      <td>232.26</td>\n",
              "      <td>992545.0</td>\n",
              "      <td>24261.03</td>\n",
              "      <td>3.979148e+07</td>\n",
              "      <td>84333.825</td>\n",
              "      <td>0.0</td>\n",
              "      <td>0.000</td>\n",
              "      <td>0.000</td>\n",
              "      <td>0.000</td>\n",
              "      <td>0.0</td>\n",
              "      <td>56204.525</td>\n",
              "      <td>4104.55</td>\n",
              "      <td>14935.0</td>\n",
              "      <td>19467.0</td>\n",
              "      <td>0.000</td>\n",
              "      <td>0.00</td>\n",
              "      <td>43120.95</td>\n",
              "      <td>447.020</td>\n",
              "      <td>401.21</td>\n",
              "    </tr>\n",
              "    <tr>\n",
              "      <th>Angola</th>\n",
              "      <td>7119065.0</td>\n",
              "      <td>42486.0</td>\n",
              "      <td>41985.291</td>\n",
              "      <td>170801.0</td>\n",
              "      <td>1003.0</td>\n",
              "      <td>990.728</td>\n",
              "      <td>2.166070e+05</td>\n",
              "      <td>1292.690</td>\n",
              "      <td>1277.450</td>\n",
              "      <td>5196.866</td>\n",
              "      <td>30.490</td>\n",
              "      <td>30.148</td>\n",
              "      <td>437.44</td>\n",
              "      <td>0.0</td>\n",
              "      <td>0.00</td>\n",
              "      <td>0.0</td>\n",
              "      <td>0.0</td>\n",
              "      <td>0.0</td>\n",
              "      <td>0.0</td>\n",
              "      <td>0.0</td>\n",
              "      <td>0.0</td>\n",
              "      <td>0.0</td>\n",
              "      <td>0.0</td>\n",
              "      <td>0.000</td>\n",
              "      <td>0.000</td>\n",
              "      <td>0.0</td>\n",
              "      <td>0.000</td>\n",
              "      <td>0.000</td>\n",
              "      <td>0.0</td>\n",
              "      <td>18004847.0</td>\n",
              "      <td>12642131.0</td>\n",
              "      <td>5362716.0</td>\n",
              "      <td>0.0</td>\n",
              "      <td>1580465.0</td>\n",
              "      <td>54.79</td>\n",
              "      <td>38.48</td>\n",
              "      <td>16.32</td>\n",
              "      <td>48098.0</td>\n",
              "      <td>32440.62</td>\n",
              "      <td>1.633454e+10</td>\n",
              "      <td>11873.330</td>\n",
              "      <td>8349.6</td>\n",
              "      <td>1195.285</td>\n",
              "      <td>676.914</td>\n",
              "      <td>2892289.015</td>\n",
              "      <td>0.0</td>\n",
              "      <td>137194.365</td>\n",
              "      <td>1958.18</td>\n",
              "      <td>0.0</td>\n",
              "      <td>0.0</td>\n",
              "      <td>13252.008</td>\n",
              "      <td>0.00</td>\n",
              "      <td>30391.55</td>\n",
              "      <td>288.757</td>\n",
              "      <td>0.00</td>\n",
              "    </tr>\n",
              "  </tbody>\n",
              "</table>\n",
              "</div>"
            ],
            "text/plain": [
              "             total_cases  new_cases  ...  human_development_index  excess_mortality\n",
              "location                             ...                                           \n",
              "Afghanistan   23934815.0   145996.0  ...                  266.742              0.00\n",
              "Albania       27854884.0   132999.0  ...                  414.195            494.34\n",
              "Algeria       36365515.0   168668.0  ...                  389.708              0.00\n",
              "Andorra        3234889.0    14655.0  ...                  447.020            401.21\n",
              "Angola         7119065.0    42486.0  ...                  288.757              0.00\n",
              "\n",
              "[5 rows x 55 columns]"
            ]
          },
          "metadata": {
            "tags": []
          },
          "execution_count": 52
        }
      ]
    },
    {
      "cell_type": "code",
      "metadata": {
        "id": "Y_u7hq-GIkgg"
      },
      "source": [
        "# Grouping by location shows us the total cases in new_columns\n",
        "df1.drop(['total_cases', 'total_deaths'], axis = 1, inplace=True)"
      ],
      "execution_count": 53,
      "outputs": []
    },
    {
      "cell_type": "code",
      "metadata": {
        "id": "gLNA32r8LV2i"
      },
      "source": [
        "df1.rename({'new_cases': 'total_cases', 'new_deaths': 'total_deaths'}, axis=1, inplace=True)"
      ],
      "execution_count": 54,
      "outputs": []
    },
    {
      "cell_type": "code",
      "metadata": {
        "colab": {
          "base_uri": "https://localhost:8080/"
        },
        "id": "olCPdVjlIaAa",
        "outputId": "ba74798c-f5b7-4f40-ea71-2b5bbf1cabf7"
      },
      "source": [
        "# Checking for null values\n",
        "df1.isnull().sum()"
      ],
      "execution_count": 57,
      "outputs": [
        {
          "output_type": "execute_result",
          "data": {
            "text/plain": [
              "total_cases                              0\n",
              "new_cases_smoothed                       0\n",
              "total_deaths                             0\n",
              "new_deaths_smoothed                      0\n",
              "total_cases_per_million                  0\n",
              "new_cases_per_million                    0\n",
              "new_cases_smoothed_per_million           0\n",
              "total_deaths_per_million                 0\n",
              "new_deaths_per_million                   0\n",
              "new_deaths_smoothed_per_million          0\n",
              "reproduction_rate                        0\n",
              "icu_patients                             0\n",
              "icu_patients_per_million                 0\n",
              "hosp_patients                            0\n",
              "hosp_patients_per_million                0\n",
              "weekly_icu_admissions                    0\n",
              "weekly_icu_admissions_per_million        0\n",
              "weekly_hosp_admissions                   0\n",
              "weekly_hosp_admissions_per_million       0\n",
              "new_tests                                0\n",
              "total_tests                              0\n",
              "total_tests_per_thousand                 0\n",
              "new_tests_per_thousand                   0\n",
              "new_tests_smoothed                       0\n",
              "new_tests_smoothed_per_thousand          0\n",
              "positive_rate                            0\n",
              "tests_per_case                           0\n",
              "total_vaccinations                       0\n",
              "people_vaccinated                        0\n",
              "people_fully_vaccinated                  0\n",
              "new_vaccinations                         0\n",
              "new_vaccinations_smoothed                0\n",
              "total_vaccinations_per_hundred           0\n",
              "people_vaccinated_per_hundred            0\n",
              "people_fully_vaccinated_per_hundred      0\n",
              "new_vaccinations_smoothed_per_million    0\n",
              "stringency_index                         0\n",
              "population                               0\n",
              "population_density                       0\n",
              "median_age                               0\n",
              "aged_65_older                            0\n",
              "aged_70_older                            0\n",
              "gdp_per_capita                           0\n",
              "extreme_poverty                          0\n",
              "cardiovasc_death_rate                    0\n",
              "diabetes_prevalence                      0\n",
              "female_smokers                           0\n",
              "male_smokers                             0\n",
              "handwashing_facilities                   0\n",
              "hospital_beds_per_thousand               0\n",
              "life_expectancy                          0\n",
              "human_development_index                  0\n",
              "excess_mortality                         0\n",
              "dtype: int64"
            ]
          },
          "metadata": {
            "tags": []
          },
          "execution_count": 57
        }
      ]
    },
    {
      "cell_type": "code",
      "metadata": {
        "colab": {
          "base_uri": "https://localhost:8080/"
        },
        "id": "rEpQvMg4KSqb",
        "outputId": "2fc8ad1d-4f02-43cb-b966-4674088e0db4"
      },
      "source": [
        "# Getting the maximun value of each case\n",
        "df1.idxmax()"
      ],
      "execution_count": 58,
      "outputs": [
        {
          "output_type": "execute_result",
          "data": {
            "text/plain": [
              "total_cases                                             United States\n",
              "new_cases_smoothed                                      United States\n",
              "total_deaths                                            United States\n",
              "new_deaths_smoothed                                     United States\n",
              "total_cases_per_million                                       Andorra\n",
              "new_cases_per_million                                         Andorra\n",
              "new_cases_smoothed_per_million                                Andorra\n",
              "total_deaths_per_million                                         Peru\n",
              "new_deaths_per_million                                           Peru\n",
              "new_deaths_smoothed_per_million                                  Peru\n",
              "reproduction_rate                                               Spain\n",
              "icu_patients                                            United States\n",
              "icu_patients_per_million                                      Czechia\n",
              "hosp_patients                                           United States\n",
              "hosp_patients_per_million                                    Bulgaria\n",
              "weekly_icu_admissions                                          France\n",
              "weekly_icu_admissions_per_million                             Czechia\n",
              "weekly_hosp_admissions                                  United States\n",
              "weekly_hosp_admissions_per_million                            Czechia\n",
              "new_tests                                               United States\n",
              "total_tests                                             United States\n",
              "total_tests_per_thousand                                       Cyprus\n",
              "new_tests_per_thousand                                         Cyprus\n",
              "new_tests_smoothed                                      United States\n",
              "new_tests_smoothed_per_thousand                                Cyprus\n",
              "positive_rate                                                  Mexico\n",
              "tests_per_case                                              Australia\n",
              "total_vaccinations                                              China\n",
              "people_vaccinated                                               India\n",
              "people_fully_vaccinated                                 United States\n",
              "new_vaccinations                                                China\n",
              "new_vaccinations_smoothed                                       China\n",
              "total_vaccinations_per_hundred                                 Israel\n",
              "people_vaccinated_per_hundred                                  Israel\n",
              "people_fully_vaccinated_per_hundred                            Israel\n",
              "new_vaccinations_smoothed_per_million                       Gibraltar\n",
              "stringency_index                                             Honduras\n",
              "population                                                      China\n",
              "population_density                                             Monaco\n",
              "median_age                                                      Japan\n",
              "aged_65_older                                                   Japan\n",
              "aged_70_older                                                   Japan\n",
              "gdp_per_capita                                                  Qatar\n",
              "extreme_poverty                          Democratic Republic of Congo\n",
              "cardiovasc_death_rate                                      Uzbekistan\n",
              "diabetes_prevalence                                         Mauritius\n",
              "female_smokers                                             Montenegro\n",
              "male_smokers                                                Indonesia\n",
              "handwashing_facilities                                       Thailand\n",
              "hospital_beds_per_thousand                                      Japan\n",
              "life_expectancy                                             Hong Kong\n",
              "human_development_index                                     Hong Kong\n",
              "excess_mortality                                                 Peru\n",
              "dtype: object"
            ]
          },
          "metadata": {
            "tags": []
          },
          "execution_count": 58
        }
      ]
    },
    {
      "cell_type": "markdown",
      "metadata": {
        "id": "SyTR8hN_MsGj"
      },
      "source": [
        "United States seems to have them most number of cases and deaths\n"
      ]
    },
    {
      "cell_type": "code",
      "metadata": {
        "colab": {
          "base_uri": "https://localhost:8080/"
        },
        "id": "srT_cmxbIfeU",
        "outputId": "5c0ec701-21d7-4e2f-f830-f4936e03396b"
      },
      "source": [
        "# Finding the most deaths and most cases\n",
        "most_cases = df1['total_cases'].max()\n",
        "most_deaths = df1['total_deaths'].max()\n",
        "print('The most number of cases are:', most_cases, 'in the United States')\n",
        "print('The most number of deaths are:', most_deaths, 'in the United States')"
      ],
      "execution_count": 60,
      "outputs": [
        {
          "output_type": "stream",
          "text": [
            "The most number of cases are: 34750859.0 in the United States\n",
            "The most number of deaths are: 612122.0 in the United States\n"
          ],
          "name": "stdout"
        }
      ]
    },
    {
      "cell_type": "markdown",
      "metadata": {
        "id": "VImJ-4VpNw24"
      },
      "source": [
        "#**TASK 2: Finding the minimum number of cases and deaths**"
      ]
    },
    {
      "cell_type": "code",
      "metadata": {
        "colab": {
          "base_uri": "https://localhost:8080/"
        },
        "id": "o8xAmfQNNBhr",
        "outputId": "ac74be45-35b6-4ba6-fd98-66636331918c"
      },
      "source": [
        "df1.idxmin()"
      ],
      "execution_count": 62,
      "outputs": [
        {
          "output_type": "execute_result",
          "data": {
            "text/plain": [
              "total_cases                                                     Anguilla\n",
              "new_cases_smoothed                                              Anguilla\n",
              "total_deaths                                                    Anguilla\n",
              "new_deaths_smoothed                                             Anguilla\n",
              "total_cases_per_million                                         Anguilla\n",
              "new_cases_per_million                                           Anguilla\n",
              "new_cases_smoothed_per_million                                  Anguilla\n",
              "total_deaths_per_million                                        Anguilla\n",
              "new_deaths_per_million                                          Anguilla\n",
              "new_deaths_smoothed_per_million                                 Anguilla\n",
              "reproduction_rate                                               Anguilla\n",
              "icu_patients                                                 Afghanistan\n",
              "icu_patients_per_million                                     Afghanistan\n",
              "hosp_patients                                                Afghanistan\n",
              "hosp_patients_per_million                                    Afghanistan\n",
              "weekly_icu_admissions                                        Afghanistan\n",
              "weekly_icu_admissions_per_million                            Afghanistan\n",
              "weekly_hosp_admissions                                       Afghanistan\n",
              "weekly_hosp_admissions_per_million                           Afghanistan\n",
              "new_tests                                                    Afghanistan\n",
              "total_tests                                                  Afghanistan\n",
              "total_tests_per_thousand                                     Afghanistan\n",
              "new_tests_per_thousand                                       Afghanistan\n",
              "new_tests_smoothed                                           Afghanistan\n",
              "new_tests_smoothed_per_thousand                              Afghanistan\n",
              "positive_rate                                                Afghanistan\n",
              "tests_per_case                                               Afghanistan\n",
              "total_vaccinations                                               Burundi\n",
              "people_vaccinated                                                Burundi\n",
              "people_fully_vaccinated                                          Burundi\n",
              "new_vaccinations                                                  Angola\n",
              "new_vaccinations_smoothed                Bonaire Sint Eustatius and Saba\n",
              "total_vaccinations_per_hundred                                   Burundi\n",
              "people_vaccinated_per_hundred                                    Burundi\n",
              "people_fully_vaccinated_per_hundred                              Burundi\n",
              "new_vaccinations_smoothed_per_million    Bonaire Sint Eustatius and Saba\n",
              "stringency_index                                                Anguilla\n",
              "population                                                 International\n",
              "population_density                                              Anguilla\n",
              "median_age                                                       Andorra\n",
              "aged_65_older                                                    Andorra\n",
              "aged_70_older                                                    Andorra\n",
              "gdp_per_capita                                                   Andorra\n",
              "extreme_poverty                                              Afghanistan\n",
              "cardiovasc_death_rate                                           Anguilla\n",
              "diabetes_prevalence                                             Anguilla\n",
              "female_smokers                                               Afghanistan\n",
              "male_smokers                                                 Afghanistan\n",
              "handwashing_facilities                                           Albania\n",
              "hospital_beds_per_thousand                                       Andorra\n",
              "life_expectancy                                                 Guernsey\n",
              "human_development_index                                         Anguilla\n",
              "excess_mortality                                                  Norway\n",
              "dtype: object"
            ]
          },
          "metadata": {
            "tags": []
          },
          "execution_count": 62
        }
      ]
    },
    {
      "cell_type": "markdown",
      "metadata": {
        "id": "LY7_L8HLNnXs"
      },
      "source": [
        "Anguilla seems to have minimum number of cases and deaths"
      ]
    },
    {
      "cell_type": "code",
      "metadata": {
        "colab": {
          "base_uri": "https://localhost:8080/"
        },
        "id": "JhLf7mppNLSP",
        "outputId": "cf4637d8-90a5-40f5-82c6-592fc7421c14"
      },
      "source": [
        "# Finding the minimum deaths and minimum cases\n",
        "minimum_cases = df1['total_cases'].min()\n",
        "minimum_deaths = df1['total_deaths'].min()\n",
        "print('The minimum number of cases are:', minimum_cases, 'in Anguilla')\n",
        "print('The minimum number of deaths are:', minimum_deaths, 'in Anguilla')"
      ],
      "execution_count": 63,
      "outputs": [
        {
          "output_type": "stream",
          "text": [
            "The minimum number of cases are: 0.0 in Anguilla\n",
            "The minimum number of deaths are: 0.0 in Anguilla\n"
          ],
          "name": "stdout"
        }
      ]
    },
    {
      "cell_type": "markdown",
      "metadata": {
        "id": "exBiBju0OIxS"
      },
      "source": [
        "#**TASK 3: Finding the total number of deaths and cases in India**\n"
      ]
    },
    {
      "cell_type": "code",
      "metadata": {
        "id": "6WGzykJTOO2F"
      },
      "source": [
        "# Filtering the Dataframe\n",
        "task3_df = df1[df1.index == 'India']"
      ],
      "execution_count": 64,
      "outputs": []
    },
    {
      "cell_type": "code",
      "metadata": {
        "colab": {
          "base_uri": "https://localhost:8080/"
        },
        "id": "eqBsUS6TPccR",
        "outputId": "ba8960b6-b628-49f9-dd62-905c567a158d"
      },
      "source": [
        "print('Total number of cases in India are:', task3_df['total_cases'][0])\n",
        "print('Total number of death in India are:', task3_df['total_deaths'][0])"
      ],
      "execution_count": 76,
      "outputs": [
        {
          "output_type": "stream",
          "text": [
            "Total number of cases in India are: 31572344.0\n",
            "Total number of death in India are: 423217.0\n"
          ],
          "name": "stdout"
        }
      ]
    },
    {
      "cell_type": "markdown",
      "metadata": {
        "id": "qkCdGIwYP2ud"
      },
      "source": [
        "#**Task 5: Covid 19 cases starting from 1st Oct 2020 (Done before the fbprophet task)**"
      ]
    },
    {
      "cell_type": "code",
      "metadata": {
        "id": "fqiUFefxzVCG"
      },
      "source": [
        "# Renaming our columns for fbprophet\n",
        "df.rename({'date': 'ds', 'total_cases': 'y'}, axis=1, inplace=True)"
      ],
      "execution_count": 77,
      "outputs": []
    },
    {
      "cell_type": "code",
      "metadata": {
        "id": "5qrYDBas0qZp"
      },
      "source": [
        "# Imputing null values\n",
        "df = df.fillna(0)"
      ],
      "execution_count": 78,
      "outputs": []
    },
    {
      "cell_type": "code",
      "metadata": {
        "id": "DIS5g2610utO"
      },
      "source": [
        "# Grouping data by date\n",
        "df = df.groupby(pd.Grouper(key='ds',freq='D')).sum()"
      ],
      "execution_count": 79,
      "outputs": []
    },
    {
      "cell_type": "code",
      "metadata": {
        "colab": {
          "base_uri": "https://localhost:8080/",
          "height": 335
        },
        "id": "-yipRSMM4HY_",
        "outputId": "7122b72d-99f7-4e33-ca3d-a01e5472f03d"
      },
      "source": [
        "df.tail()"
      ],
      "execution_count": 81,
      "outputs": [
        {
          "output_type": "execute_result",
          "data": {
            "text/html": [
              "<div>\n",
              "<style scoped>\n",
              "    .dataframe tbody tr th:only-of-type {\n",
              "        vertical-align: middle;\n",
              "    }\n",
              "\n",
              "    .dataframe tbody tr th {\n",
              "        vertical-align: top;\n",
              "    }\n",
              "\n",
              "    .dataframe thead th {\n",
              "        text-align: right;\n",
              "    }\n",
              "</style>\n",
              "<table border=\"1\" class=\"dataframe\">\n",
              "  <thead>\n",
              "    <tr style=\"text-align: right;\">\n",
              "      <th></th>\n",
              "      <th>y</th>\n",
              "      <th>new_cases</th>\n",
              "      <th>new_cases_smoothed</th>\n",
              "      <th>total_deaths</th>\n",
              "      <th>new_deaths</th>\n",
              "      <th>new_deaths_smoothed</th>\n",
              "      <th>total_cases_per_million</th>\n",
              "      <th>new_cases_per_million</th>\n",
              "      <th>new_cases_smoothed_per_million</th>\n",
              "      <th>total_deaths_per_million</th>\n",
              "      <th>new_deaths_per_million</th>\n",
              "      <th>new_deaths_smoothed_per_million</th>\n",
              "      <th>reproduction_rate</th>\n",
              "      <th>icu_patients</th>\n",
              "      <th>icu_patients_per_million</th>\n",
              "      <th>hosp_patients</th>\n",
              "      <th>hosp_patients_per_million</th>\n",
              "      <th>weekly_icu_admissions</th>\n",
              "      <th>weekly_icu_admissions_per_million</th>\n",
              "      <th>weekly_hosp_admissions</th>\n",
              "      <th>weekly_hosp_admissions_per_million</th>\n",
              "      <th>new_tests</th>\n",
              "      <th>total_tests</th>\n",
              "      <th>total_tests_per_thousand</th>\n",
              "      <th>new_tests_per_thousand</th>\n",
              "      <th>new_tests_smoothed</th>\n",
              "      <th>new_tests_smoothed_per_thousand</th>\n",
              "      <th>positive_rate</th>\n",
              "      <th>tests_per_case</th>\n",
              "      <th>total_vaccinations</th>\n",
              "      <th>people_vaccinated</th>\n",
              "      <th>people_fully_vaccinated</th>\n",
              "      <th>new_vaccinations</th>\n",
              "      <th>new_vaccinations_smoothed</th>\n",
              "      <th>total_vaccinations_per_hundred</th>\n",
              "      <th>people_vaccinated_per_hundred</th>\n",
              "      <th>people_fully_vaccinated_per_hundred</th>\n",
              "      <th>new_vaccinations_smoothed_per_million</th>\n",
              "      <th>stringency_index</th>\n",
              "      <th>population</th>\n",
              "      <th>population_density</th>\n",
              "      <th>median_age</th>\n",
              "      <th>aged_65_older</th>\n",
              "      <th>aged_70_older</th>\n",
              "      <th>gdp_per_capita</th>\n",
              "      <th>extreme_poverty</th>\n",
              "      <th>cardiovasc_death_rate</th>\n",
              "      <th>diabetes_prevalence</th>\n",
              "      <th>female_smokers</th>\n",
              "      <th>male_smokers</th>\n",
              "      <th>handwashing_facilities</th>\n",
              "      <th>hospital_beds_per_thousand</th>\n",
              "      <th>life_expectancy</th>\n",
              "      <th>human_development_index</th>\n",
              "      <th>excess_mortality</th>\n",
              "    </tr>\n",
              "    <tr>\n",
              "      <th>ds</th>\n",
              "      <th></th>\n",
              "      <th></th>\n",
              "      <th></th>\n",
              "      <th></th>\n",
              "      <th></th>\n",
              "      <th></th>\n",
              "      <th></th>\n",
              "      <th></th>\n",
              "      <th></th>\n",
              "      <th></th>\n",
              "      <th></th>\n",
              "      <th></th>\n",
              "      <th></th>\n",
              "      <th></th>\n",
              "      <th></th>\n",
              "      <th></th>\n",
              "      <th></th>\n",
              "      <th></th>\n",
              "      <th></th>\n",
              "      <th></th>\n",
              "      <th></th>\n",
              "      <th></th>\n",
              "      <th></th>\n",
              "      <th></th>\n",
              "      <th></th>\n",
              "      <th></th>\n",
              "      <th></th>\n",
              "      <th></th>\n",
              "      <th></th>\n",
              "      <th></th>\n",
              "      <th></th>\n",
              "      <th></th>\n",
              "      <th></th>\n",
              "      <th></th>\n",
              "      <th></th>\n",
              "      <th></th>\n",
              "      <th></th>\n",
              "      <th></th>\n",
              "      <th></th>\n",
              "      <th></th>\n",
              "      <th></th>\n",
              "      <th></th>\n",
              "      <th></th>\n",
              "      <th></th>\n",
              "      <th></th>\n",
              "      <th></th>\n",
              "      <th></th>\n",
              "      <th></th>\n",
              "      <th></th>\n",
              "      <th></th>\n",
              "      <th></th>\n",
              "      <th></th>\n",
              "      <th></th>\n",
              "      <th></th>\n",
              "      <th></th>\n",
              "    </tr>\n",
              "  </thead>\n",
              "  <tbody>\n",
              "    <tr>\n",
              "      <th>2021-07-25</th>\n",
              "      <td>194255037.0</td>\n",
              "      <td>439772.0</td>\n",
              "      <td>537905.291</td>\n",
              "      <td>4161123.0</td>\n",
              "      <td>6970.0</td>\n",
              "      <td>8712.716</td>\n",
              "      <td>7380674.243</td>\n",
              "      <td>16435.976</td>\n",
              "      <td>19726.068</td>\n",
              "      <td>131222.919</td>\n",
              "      <td>262.659</td>\n",
              "      <td>243.201</td>\n",
              "      <td>196.79</td>\n",
              "      <td>2801.0</td>\n",
              "      <td>144.092</td>\n",
              "      <td>18324.0</td>\n",
              "      <td>1019.753</td>\n",
              "      <td>815.666</td>\n",
              "      <td>100.782</td>\n",
              "      <td>13531.66</td>\n",
              "      <td>743.552</td>\n",
              "      <td>4954036.0</td>\n",
              "      <td>1.884759e+09</td>\n",
              "      <td>79052.448</td>\n",
              "      <td>278.930</td>\n",
              "      <td>7492815.0</td>\n",
              "      <td>393.801</td>\n",
              "      <td>7.722</td>\n",
              "      <td>8242.1</td>\n",
              "      <td>3.797266e+09</td>\n",
              "      <td>1.448180e+09</td>\n",
              "      <td>821715179.0</td>\n",
              "      <td>22365899.0</td>\n",
              "      <td>32201616.0</td>\n",
              "      <td>6683.82</td>\n",
              "      <td>3838.98</td>\n",
              "      <td>2769.88</td>\n",
              "      <td>698624.0</td>\n",
              "      <td>3805.07</td>\n",
              "      <td>7.801200e+09</td>\n",
              "      <td>90228.784</td>\n",
              "      <td>5730.2</td>\n",
              "      <td>1613.838</td>\n",
              "      <td>1023.944</td>\n",
              "      <td>3587313.046</td>\n",
              "      <td>1731.6</td>\n",
              "      <td>49394.368</td>\n",
              "      <td>1627.47</td>\n",
              "      <td>1572.0</td>\n",
              "      <td>4714.6</td>\n",
              "      <td>4715.599</td>\n",
              "      <td>507.678</td>\n",
              "      <td>14838.68</td>\n",
              "      <td>134.997</td>\n",
              "      <td>0.0</td>\n",
              "    </tr>\n",
              "    <tr>\n",
              "      <th>2021-07-26</th>\n",
              "      <td>194793811.0</td>\n",
              "      <td>538774.0</td>\n",
              "      <td>543867.004</td>\n",
              "      <td>4169008.0</td>\n",
              "      <td>7885.0</td>\n",
              "      <td>8804.434</td>\n",
              "      <td>7406017.270</td>\n",
              "      <td>25343.023</td>\n",
              "      <td>20008.055</td>\n",
              "      <td>131515.827</td>\n",
              "      <td>292.911</td>\n",
              "      <td>246.074</td>\n",
              "      <td>197.27</td>\n",
              "      <td>1120.0</td>\n",
              "      <td>22.904</td>\n",
              "      <td>6677.0</td>\n",
              "      <td>130.938</td>\n",
              "      <td>0.000</td>\n",
              "      <td>0.000</td>\n",
              "      <td>0.00</td>\n",
              "      <td>0.000</td>\n",
              "      <td>5145509.0</td>\n",
              "      <td>2.076866e+09</td>\n",
              "      <td>86015.477</td>\n",
              "      <td>306.230</td>\n",
              "      <td>7282501.0</td>\n",
              "      <td>386.752</td>\n",
              "      <td>7.115</td>\n",
              "      <td>8458.4</td>\n",
              "      <td>3.835946e+09</td>\n",
              "      <td>1.446458e+09</td>\n",
              "      <td>832089698.0</td>\n",
              "      <td>37741047.0</td>\n",
              "      <td>33450308.0</td>\n",
              "      <td>7347.58</td>\n",
              "      <td>4187.14</td>\n",
              "      <td>3067.34</td>\n",
              "      <td>667168.0</td>\n",
              "      <td>2933.80</td>\n",
              "      <td>7.801099e+09</td>\n",
              "      <td>90228.784</td>\n",
              "      <td>5730.2</td>\n",
              "      <td>1613.838</td>\n",
              "      <td>1023.944</td>\n",
              "      <td>3587313.046</td>\n",
              "      <td>1731.6</td>\n",
              "      <td>49394.368</td>\n",
              "      <td>1627.47</td>\n",
              "      <td>1572.0</td>\n",
              "      <td>4714.6</td>\n",
              "      <td>4715.599</td>\n",
              "      <td>507.678</td>\n",
              "      <td>14838.68</td>\n",
              "      <td>134.997</td>\n",
              "      <td>0.0</td>\n",
              "    </tr>\n",
              "    <tr>\n",
              "      <th>2021-07-27</th>\n",
              "      <td>195410702.0</td>\n",
              "      <td>616891.0</td>\n",
              "      <td>555472.855</td>\n",
              "      <td>4179040.0</td>\n",
              "      <td>10032.0</td>\n",
              "      <td>8506.860</td>\n",
              "      <td>7426581.834</td>\n",
              "      <td>20564.566</td>\n",
              "      <td>20057.622</td>\n",
              "      <td>131768.318</td>\n",
              "      <td>252.483</td>\n",
              "      <td>250.637</td>\n",
              "      <td>197.76</td>\n",
              "      <td>1146.0</td>\n",
              "      <td>23.282</td>\n",
              "      <td>6817.0</td>\n",
              "      <td>136.864</td>\n",
              "      <td>0.000</td>\n",
              "      <td>0.000</td>\n",
              "      <td>0.00</td>\n",
              "      <td>0.000</td>\n",
              "      <td>5256358.0</td>\n",
              "      <td>1.875758e+09</td>\n",
              "      <td>86001.131</td>\n",
              "      <td>314.359</td>\n",
              "      <td>6589049.0</td>\n",
              "      <td>364.854</td>\n",
              "      <td>7.024</td>\n",
              "      <td>8263.4</td>\n",
              "      <td>3.739732e+09</td>\n",
              "      <td>1.392338e+09</td>\n",
              "      <td>798202541.0</td>\n",
              "      <td>38254888.0</td>\n",
              "      <td>34390708.0</td>\n",
              "      <td>7663.35</td>\n",
              "      <td>4437.63</td>\n",
              "      <td>3266.67</td>\n",
              "      <td>626477.0</td>\n",
              "      <td>911.56</td>\n",
              "      <td>7.801065e+09</td>\n",
              "      <td>86771.684</td>\n",
              "      <td>5730.2</td>\n",
              "      <td>1613.838</td>\n",
              "      <td>1023.944</td>\n",
              "      <td>3587313.046</td>\n",
              "      <td>1731.6</td>\n",
              "      <td>49394.368</td>\n",
              "      <td>1627.47</td>\n",
              "      <td>1572.0</td>\n",
              "      <td>4714.6</td>\n",
              "      <td>4715.599</td>\n",
              "      <td>507.678</td>\n",
              "      <td>14758.75</td>\n",
              "      <td>134.997</td>\n",
              "      <td>0.0</td>\n",
              "    </tr>\n",
              "    <tr>\n",
              "      <th>2021-07-28</th>\n",
              "      <td>196048644.0</td>\n",
              "      <td>637942.0</td>\n",
              "      <td>565788.416</td>\n",
              "      <td>4188739.0</td>\n",
              "      <td>9699.0</td>\n",
              "      <td>8629.005</td>\n",
              "      <td>7448135.247</td>\n",
              "      <td>21553.414</td>\n",
              "      <td>20343.927</td>\n",
              "      <td>132009.637</td>\n",
              "      <td>241.320</td>\n",
              "      <td>250.427</td>\n",
              "      <td>0.00</td>\n",
              "      <td>1141.0</td>\n",
              "      <td>23.090</td>\n",
              "      <td>6810.0</td>\n",
              "      <td>137.758</td>\n",
              "      <td>0.000</td>\n",
              "      <td>0.000</td>\n",
              "      <td>0.00</td>\n",
              "      <td>0.000</td>\n",
              "      <td>4990093.0</td>\n",
              "      <td>1.288390e+09</td>\n",
              "      <td>67912.912</td>\n",
              "      <td>307.647</td>\n",
              "      <td>5789566.0</td>\n",
              "      <td>343.730</td>\n",
              "      <td>6.066</td>\n",
              "      <td>8016.2</td>\n",
              "      <td>3.824066e+09</td>\n",
              "      <td>1.419869e+09</td>\n",
              "      <td>820120197.0</td>\n",
              "      <td>37903628.0</td>\n",
              "      <td>35300860.0</td>\n",
              "      <td>6951.43</td>\n",
              "      <td>3935.03</td>\n",
              "      <td>2960.91</td>\n",
              "      <td>519898.0</td>\n",
              "      <td>490.73</td>\n",
              "      <td>7.800382e+09</td>\n",
              "      <td>85846.540</td>\n",
              "      <td>5641.8</td>\n",
              "      <td>1590.289</td>\n",
              "      <td>1008.830</td>\n",
              "      <td>3568991.790</td>\n",
              "      <td>1731.6</td>\n",
              "      <td>49166.878</td>\n",
              "      <td>1541.99</td>\n",
              "      <td>1517.2</td>\n",
              "      <td>4633.3</td>\n",
              "      <td>4715.599</td>\n",
              "      <td>500.078</td>\n",
              "      <td>14472.67</td>\n",
              "      <td>134.272</td>\n",
              "      <td>0.0</td>\n",
              "    </tr>\n",
              "    <tr>\n",
              "      <th>2021-07-29</th>\n",
              "      <td>196708341.0</td>\n",
              "      <td>659697.0</td>\n",
              "      <td>579276.280</td>\n",
              "      <td>4200308.0</td>\n",
              "      <td>11569.0</td>\n",
              "      <td>9013.717</td>\n",
              "      <td>7473048.279</td>\n",
              "      <td>24913.029</td>\n",
              "      <td>20529.154</td>\n",
              "      <td>132385.476</td>\n",
              "      <td>375.842</td>\n",
              "      <td>263.992</td>\n",
              "      <td>0.00</td>\n",
              "      <td>287.0</td>\n",
              "      <td>10.229</td>\n",
              "      <td>785.0</td>\n",
              "      <td>50.270</td>\n",
              "      <td>0.000</td>\n",
              "      <td>0.000</td>\n",
              "      <td>0.00</td>\n",
              "      <td>0.000</td>\n",
              "      <td>3366958.0</td>\n",
              "      <td>1.093299e+09</td>\n",
              "      <td>45208.598</td>\n",
              "      <td>202.801</td>\n",
              "      <td>4020100.0</td>\n",
              "      <td>235.026</td>\n",
              "      <td>4.301</td>\n",
              "      <td>8179.6</td>\n",
              "      <td>3.578051e+09</td>\n",
              "      <td>1.267837e+09</td>\n",
              "      <td>701264474.0</td>\n",
              "      <td>39962318.0</td>\n",
              "      <td>33744195.0</td>\n",
              "      <td>4787.88</td>\n",
              "      <td>2770.30</td>\n",
              "      <td>2052.25</td>\n",
              "      <td>375285.0</td>\n",
              "      <td>359.25</td>\n",
              "      <td>7.800017e+09</td>\n",
              "      <td>85300.716</td>\n",
              "      <td>5600.1</td>\n",
              "      <td>1573.922</td>\n",
              "      <td>998.762</td>\n",
              "      <td>3568991.790</td>\n",
              "      <td>1731.6</td>\n",
              "      <td>49166.878</td>\n",
              "      <td>1530.37</td>\n",
              "      <td>1517.2</td>\n",
              "      <td>4633.3</td>\n",
              "      <td>4715.599</td>\n",
              "      <td>500.078</td>\n",
              "      <td>14231.72</td>\n",
              "      <td>134.272</td>\n",
              "      <td>0.0</td>\n",
              "    </tr>\n",
              "  </tbody>\n",
              "</table>\n",
              "</div>"
            ],
            "text/plain": [
              "                      y  new_cases  ...  human_development_index  excess_mortality\n",
              "ds                                  ...                                           \n",
              "2021-07-25  194255037.0   439772.0  ...                  134.997               0.0\n",
              "2021-07-26  194793811.0   538774.0  ...                  134.997               0.0\n",
              "2021-07-27  195410702.0   616891.0  ...                  134.997               0.0\n",
              "2021-07-28  196048644.0   637942.0  ...                  134.272               0.0\n",
              "2021-07-29  196708341.0   659697.0  ...                  134.272               0.0\n",
              "\n",
              "[5 rows x 55 columns]"
            ]
          },
          "metadata": {
            "tags": []
          },
          "execution_count": 81
        }
      ]
    },
    {
      "cell_type": "code",
      "metadata": {
        "id": "EOD_erSfQupG"
      },
      "source": [
        "df['ds'] = df.index"
      ],
      "execution_count": 82,
      "outputs": []
    },
    {
      "cell_type": "code",
      "metadata": {
        "id": "TcvBxB0fRA_y"
      },
      "source": [
        "# Filtering the data from October 2020\n",
        "df_oct = df[df['ds'] > '2020-9-30']"
      ],
      "execution_count": 88,
      "outputs": []
    },
    {
      "cell_type": "code",
      "metadata": {
        "colab": {
          "base_uri": "https://localhost:8080/",
          "height": 335
        },
        "id": "QUyfgDV6Rgwe",
        "outputId": "43ed7d16-84ab-4ce5-8cd1-292a0c38b805"
      },
      "source": [
        "df_oct.head()"
      ],
      "execution_count": 89,
      "outputs": [
        {
          "output_type": "execute_result",
          "data": {
            "text/html": [
              "<div>\n",
              "<style scoped>\n",
              "    .dataframe tbody tr th:only-of-type {\n",
              "        vertical-align: middle;\n",
              "    }\n",
              "\n",
              "    .dataframe tbody tr th {\n",
              "        vertical-align: top;\n",
              "    }\n",
              "\n",
              "    .dataframe thead th {\n",
              "        text-align: right;\n",
              "    }\n",
              "</style>\n",
              "<table border=\"1\" class=\"dataframe\">\n",
              "  <thead>\n",
              "    <tr style=\"text-align: right;\">\n",
              "      <th></th>\n",
              "      <th>y</th>\n",
              "      <th>new_cases</th>\n",
              "      <th>new_cases_smoothed</th>\n",
              "      <th>total_deaths</th>\n",
              "      <th>new_deaths</th>\n",
              "      <th>new_deaths_smoothed</th>\n",
              "      <th>total_cases_per_million</th>\n",
              "      <th>new_cases_per_million</th>\n",
              "      <th>new_cases_smoothed_per_million</th>\n",
              "      <th>total_deaths_per_million</th>\n",
              "      <th>new_deaths_per_million</th>\n",
              "      <th>new_deaths_smoothed_per_million</th>\n",
              "      <th>reproduction_rate</th>\n",
              "      <th>icu_patients</th>\n",
              "      <th>icu_patients_per_million</th>\n",
              "      <th>hosp_patients</th>\n",
              "      <th>hosp_patients_per_million</th>\n",
              "      <th>weekly_icu_admissions</th>\n",
              "      <th>weekly_icu_admissions_per_million</th>\n",
              "      <th>weekly_hosp_admissions</th>\n",
              "      <th>weekly_hosp_admissions_per_million</th>\n",
              "      <th>new_tests</th>\n",
              "      <th>total_tests</th>\n",
              "      <th>total_tests_per_thousand</th>\n",
              "      <th>new_tests_per_thousand</th>\n",
              "      <th>new_tests_smoothed</th>\n",
              "      <th>new_tests_smoothed_per_thousand</th>\n",
              "      <th>positive_rate</th>\n",
              "      <th>tests_per_case</th>\n",
              "      <th>total_vaccinations</th>\n",
              "      <th>people_vaccinated</th>\n",
              "      <th>people_fully_vaccinated</th>\n",
              "      <th>new_vaccinations</th>\n",
              "      <th>new_vaccinations_smoothed</th>\n",
              "      <th>total_vaccinations_per_hundred</th>\n",
              "      <th>people_vaccinated_per_hundred</th>\n",
              "      <th>people_fully_vaccinated_per_hundred</th>\n",
              "      <th>new_vaccinations_smoothed_per_million</th>\n",
              "      <th>stringency_index</th>\n",
              "      <th>population</th>\n",
              "      <th>population_density</th>\n",
              "      <th>median_age</th>\n",
              "      <th>aged_65_older</th>\n",
              "      <th>aged_70_older</th>\n",
              "      <th>gdp_per_capita</th>\n",
              "      <th>extreme_poverty</th>\n",
              "      <th>cardiovasc_death_rate</th>\n",
              "      <th>diabetes_prevalence</th>\n",
              "      <th>female_smokers</th>\n",
              "      <th>male_smokers</th>\n",
              "      <th>handwashing_facilities</th>\n",
              "      <th>hospital_beds_per_thousand</th>\n",
              "      <th>life_expectancy</th>\n",
              "      <th>human_development_index</th>\n",
              "      <th>excess_mortality</th>\n",
              "      <th>ds</th>\n",
              "    </tr>\n",
              "    <tr>\n",
              "      <th>ds</th>\n",
              "      <th></th>\n",
              "      <th></th>\n",
              "      <th></th>\n",
              "      <th></th>\n",
              "      <th></th>\n",
              "      <th></th>\n",
              "      <th></th>\n",
              "      <th></th>\n",
              "      <th></th>\n",
              "      <th></th>\n",
              "      <th></th>\n",
              "      <th></th>\n",
              "      <th></th>\n",
              "      <th></th>\n",
              "      <th></th>\n",
              "      <th></th>\n",
              "      <th></th>\n",
              "      <th></th>\n",
              "      <th></th>\n",
              "      <th></th>\n",
              "      <th></th>\n",
              "      <th></th>\n",
              "      <th></th>\n",
              "      <th></th>\n",
              "      <th></th>\n",
              "      <th></th>\n",
              "      <th></th>\n",
              "      <th></th>\n",
              "      <th></th>\n",
              "      <th></th>\n",
              "      <th></th>\n",
              "      <th></th>\n",
              "      <th></th>\n",
              "      <th></th>\n",
              "      <th></th>\n",
              "      <th></th>\n",
              "      <th></th>\n",
              "      <th></th>\n",
              "      <th></th>\n",
              "      <th></th>\n",
              "      <th></th>\n",
              "      <th></th>\n",
              "      <th></th>\n",
              "      <th></th>\n",
              "      <th></th>\n",
              "      <th></th>\n",
              "      <th></th>\n",
              "      <th></th>\n",
              "      <th></th>\n",
              "      <th></th>\n",
              "      <th></th>\n",
              "      <th></th>\n",
              "      <th></th>\n",
              "      <th></th>\n",
              "      <th></th>\n",
              "      <th></th>\n",
              "    </tr>\n",
              "  </thead>\n",
              "  <tbody>\n",
              "    <tr>\n",
              "      <th>2020-10-01</th>\n",
              "      <td>34361285.0</td>\n",
              "      <td>318342.0</td>\n",
              "      <td>293372.136</td>\n",
              "      <td>1074251.0</td>\n",
              "      <td>8805.0</td>\n",
              "      <td>5828.289</td>\n",
              "      <td>992989.015</td>\n",
              "      <td>9272.354</td>\n",
              "      <td>9044.084</td>\n",
              "      <td>25101.612</td>\n",
              "      <td>188.668</td>\n",
              "      <td>136.293</td>\n",
              "      <td>176.29</td>\n",
              "      <td>13625.0</td>\n",
              "      <td>245.341</td>\n",
              "      <td>61823.0</td>\n",
              "      <td>1605.155</td>\n",
              "      <td>0.000</td>\n",
              "      <td>0.000</td>\n",
              "      <td>0.000</td>\n",
              "      <td>0.000</td>\n",
              "      <td>4949973.0</td>\n",
              "      <td>422923116.0</td>\n",
              "      <td>14395.001</td>\n",
              "      <td>144.646</td>\n",
              "      <td>4624278.0</td>\n",
              "      <td>145.481</td>\n",
              "      <td>8.152</td>\n",
              "      <td>10826.1</td>\n",
              "      <td>0.0</td>\n",
              "      <td>0.0</td>\n",
              "      <td>0.0</td>\n",
              "      <td>0.0</td>\n",
              "      <td>0.0</td>\n",
              "      <td>0.0</td>\n",
              "      <td>0.0</td>\n",
              "      <td>0.0</td>\n",
              "      <td>0.0</td>\n",
              "      <td>9311.14</td>\n",
              "      <td>7.797653e+09</td>\n",
              "      <td>63208.973</td>\n",
              "      <td>5407.6</td>\n",
              "      <td>1528.827</td>\n",
              "      <td>973.49</td>\n",
              "      <td>3358003.942</td>\n",
              "      <td>1677.3</td>\n",
              "      <td>46165.087</td>\n",
              "      <td>1398.25</td>\n",
              "      <td>1461.8</td>\n",
              "      <td>4501.8</td>\n",
              "      <td>4571.998</td>\n",
              "      <td>494.078</td>\n",
              "      <td>13488.83</td>\n",
              "      <td>130.427</td>\n",
              "      <td>0.00</td>\n",
              "      <td>2020-10-01</td>\n",
              "    </tr>\n",
              "    <tr>\n",
              "      <th>2020-10-02</th>\n",
              "      <td>34659269.0</td>\n",
              "      <td>297984.0</td>\n",
              "      <td>288654.425</td>\n",
              "      <td>1079294.0</td>\n",
              "      <td>5043.0</td>\n",
              "      <td>5699.144</td>\n",
              "      <td>1004532.403</td>\n",
              "      <td>11543.386</td>\n",
              "      <td>9094.725</td>\n",
              "      <td>25227.222</td>\n",
              "      <td>125.601</td>\n",
              "      <td>131.910</td>\n",
              "      <td>177.81</td>\n",
              "      <td>13704.0</td>\n",
              "      <td>252.122</td>\n",
              "      <td>62157.0</td>\n",
              "      <td>1621.339</td>\n",
              "      <td>0.000</td>\n",
              "      <td>0.000</td>\n",
              "      <td>0.000</td>\n",
              "      <td>0.000</td>\n",
              "      <td>4191344.0</td>\n",
              "      <td>365822733.0</td>\n",
              "      <td>13709.263</td>\n",
              "      <td>140.456</td>\n",
              "      <td>4585883.0</td>\n",
              "      <td>145.531</td>\n",
              "      <td>8.149</td>\n",
              "      <td>10898.2</td>\n",
              "      <td>0.0</td>\n",
              "      <td>0.0</td>\n",
              "      <td>0.0</td>\n",
              "      <td>0.0</td>\n",
              "      <td>0.0</td>\n",
              "      <td>0.0</td>\n",
              "      <td>0.0</td>\n",
              "      <td>0.0</td>\n",
              "      <td>0.0</td>\n",
              "      <td>9307.92</td>\n",
              "      <td>7.797653e+09</td>\n",
              "      <td>63208.973</td>\n",
              "      <td>5407.6</td>\n",
              "      <td>1528.827</td>\n",
              "      <td>973.49</td>\n",
              "      <td>3358003.942</td>\n",
              "      <td>1677.3</td>\n",
              "      <td>46165.087</td>\n",
              "      <td>1398.25</td>\n",
              "      <td>1461.8</td>\n",
              "      <td>4501.8</td>\n",
              "      <td>4571.998</td>\n",
              "      <td>494.078</td>\n",
              "      <td>13488.83</td>\n",
              "      <td>130.427</td>\n",
              "      <td>0.00</td>\n",
              "      <td>2020-10-02</td>\n",
              "    </tr>\n",
              "    <tr>\n",
              "      <th>2020-10-03</th>\n",
              "      <td>34991423.0</td>\n",
              "      <td>332154.0</td>\n",
              "      <td>294861.573</td>\n",
              "      <td>1084746.0</td>\n",
              "      <td>5452.0</td>\n",
              "      <td>5682.726</td>\n",
              "      <td>1013494.546</td>\n",
              "      <td>8962.154</td>\n",
              "      <td>9274.292</td>\n",
              "      <td>25339.073</td>\n",
              "      <td>111.859</td>\n",
              "      <td>131.137</td>\n",
              "      <td>179.33</td>\n",
              "      <td>12274.0</td>\n",
              "      <td>225.813</td>\n",
              "      <td>51977.0</td>\n",
              "      <td>1410.357</td>\n",
              "      <td>0.000</td>\n",
              "      <td>0.000</td>\n",
              "      <td>0.000</td>\n",
              "      <td>0.000</td>\n",
              "      <td>3685353.0</td>\n",
              "      <td>406542676.0</td>\n",
              "      <td>13766.411</td>\n",
              "      <td>118.168</td>\n",
              "      <td>4570882.0</td>\n",
              "      <td>145.933</td>\n",
              "      <td>8.248</td>\n",
              "      <td>11122.2</td>\n",
              "      <td>0.0</td>\n",
              "      <td>0.0</td>\n",
              "      <td>0.0</td>\n",
              "      <td>0.0</td>\n",
              "      <td>0.0</td>\n",
              "      <td>0.0</td>\n",
              "      <td>0.0</td>\n",
              "      <td>0.0</td>\n",
              "      <td>0.0</td>\n",
              "      <td>9322.73</td>\n",
              "      <td>7.797653e+09</td>\n",
              "      <td>63208.973</td>\n",
              "      <td>5407.6</td>\n",
              "      <td>1528.827</td>\n",
              "      <td>973.49</td>\n",
              "      <td>3358003.942</td>\n",
              "      <td>1677.3</td>\n",
              "      <td>46165.087</td>\n",
              "      <td>1398.25</td>\n",
              "      <td>1461.8</td>\n",
              "      <td>4501.8</td>\n",
              "      <td>4571.998</td>\n",
              "      <td>494.078</td>\n",
              "      <td>13488.83</td>\n",
              "      <td>130.427</td>\n",
              "      <td>0.00</td>\n",
              "      <td>2020-10-03</td>\n",
              "    </tr>\n",
              "    <tr>\n",
              "      <th>2020-10-04</th>\n",
              "      <td>35252827.0</td>\n",
              "      <td>261404.0</td>\n",
              "      <td>296295.142</td>\n",
              "      <td>1088748.0</td>\n",
              "      <td>4002.0</td>\n",
              "      <td>5709.434</td>\n",
              "      <td>1021911.471</td>\n",
              "      <td>8416.929</td>\n",
              "      <td>9515.808</td>\n",
              "      <td>25458.077</td>\n",
              "      <td>119.008</td>\n",
              "      <td>135.472</td>\n",
              "      <td>180.78</td>\n",
              "      <td>12541.0</td>\n",
              "      <td>231.126</td>\n",
              "      <td>53595.0</td>\n",
              "      <td>1506.245</td>\n",
              "      <td>2919.529</td>\n",
              "      <td>205.249</td>\n",
              "      <td>61084.856</td>\n",
              "      <td>1737.163</td>\n",
              "      <td>3488831.0</td>\n",
              "      <td>441266953.0</td>\n",
              "      <td>14747.577</td>\n",
              "      <td>98.002</td>\n",
              "      <td>4604255.0</td>\n",
              "      <td>145.899</td>\n",
              "      <td>8.438</td>\n",
              "      <td>10656.8</td>\n",
              "      <td>0.0</td>\n",
              "      <td>0.0</td>\n",
              "      <td>0.0</td>\n",
              "      <td>0.0</td>\n",
              "      <td>0.0</td>\n",
              "      <td>0.0</td>\n",
              "      <td>0.0</td>\n",
              "      <td>0.0</td>\n",
              "      <td>0.0</td>\n",
              "      <td>9300.51</td>\n",
              "      <td>7.797653e+09</td>\n",
              "      <td>63208.973</td>\n",
              "      <td>5407.6</td>\n",
              "      <td>1528.827</td>\n",
              "      <td>973.49</td>\n",
              "      <td>3358003.942</td>\n",
              "      <td>1677.3</td>\n",
              "      <td>46165.087</td>\n",
              "      <td>1398.25</td>\n",
              "      <td>1461.8</td>\n",
              "      <td>4501.8</td>\n",
              "      <td>4571.998</td>\n",
              "      <td>494.078</td>\n",
              "      <td>13488.83</td>\n",
              "      <td>130.427</td>\n",
              "      <td>512.04</td>\n",
              "      <td>2020-10-04</td>\n",
              "    </tr>\n",
              "    <tr>\n",
              "      <th>2020-10-05</th>\n",
              "      <td>35553459.0</td>\n",
              "      <td>300632.0</td>\n",
              "      <td>302812.429</td>\n",
              "      <td>1095748.0</td>\n",
              "      <td>7000.0</td>\n",
              "      <td>6134.287</td>\n",
              "      <td>1034772.915</td>\n",
              "      <td>12861.438</td>\n",
              "      <td>10081.409</td>\n",
              "      <td>25604.857</td>\n",
              "      <td>146.784</td>\n",
              "      <td>139.671</td>\n",
              "      <td>181.89</td>\n",
              "      <td>14562.0</td>\n",
              "      <td>277.722</td>\n",
              "      <td>67122.0</td>\n",
              "      <td>1816.811</td>\n",
              "      <td>0.000</td>\n",
              "      <td>0.000</td>\n",
              "      <td>0.000</td>\n",
              "      <td>0.000</td>\n",
              "      <td>3779249.0</td>\n",
              "      <td>424308856.0</td>\n",
              "      <td>14913.491</td>\n",
              "      <td>128.197</td>\n",
              "      <td>4689579.0</td>\n",
              "      <td>147.644</td>\n",
              "      <td>8.283</td>\n",
              "      <td>10722.3</td>\n",
              "      <td>0.0</td>\n",
              "      <td>0.0</td>\n",
              "      <td>0.0</td>\n",
              "      <td>0.0</td>\n",
              "      <td>0.0</td>\n",
              "      <td>0.0</td>\n",
              "      <td>0.0</td>\n",
              "      <td>0.0</td>\n",
              "      <td>0.0</td>\n",
              "      <td>9287.10</td>\n",
              "      <td>7.797653e+09</td>\n",
              "      <td>63208.973</td>\n",
              "      <td>5407.6</td>\n",
              "      <td>1528.827</td>\n",
              "      <td>973.49</td>\n",
              "      <td>3358003.942</td>\n",
              "      <td>1677.3</td>\n",
              "      <td>46165.087</td>\n",
              "      <td>1398.25</td>\n",
              "      <td>1461.8</td>\n",
              "      <td>4501.8</td>\n",
              "      <td>4571.998</td>\n",
              "      <td>494.078</td>\n",
              "      <td>13488.83</td>\n",
              "      <td>130.427</td>\n",
              "      <td>0.00</td>\n",
              "      <td>2020-10-05</td>\n",
              "    </tr>\n",
              "  </tbody>\n",
              "</table>\n",
              "</div>"
            ],
            "text/plain": [
              "                     y  new_cases  ...  excess_mortality         ds\n",
              "ds                                 ...                             \n",
              "2020-10-01  34361285.0   318342.0  ...              0.00 2020-10-01\n",
              "2020-10-02  34659269.0   297984.0  ...              0.00 2020-10-02\n",
              "2020-10-03  34991423.0   332154.0  ...              0.00 2020-10-03\n",
              "2020-10-04  35252827.0   261404.0  ...            512.04 2020-10-04\n",
              "2020-10-05  35553459.0   300632.0  ...              0.00 2020-10-05\n",
              "\n",
              "[5 rows x 56 columns]"
            ]
          },
          "metadata": {
            "tags": []
          },
          "execution_count": 89
        }
      ]
    },
    {
      "cell_type": "code",
      "metadata": {
        "id": "jT1HAUMVlscL"
      },
      "source": [
        "# Importing Libraries\n",
        "import matplotlib.pyplot as plt\n",
        "from matplotlib.pyplot import figure"
      ],
      "execution_count": 90,
      "outputs": []
    },
    {
      "cell_type": "code",
      "metadata": {
        "colab": {
          "base_uri": "https://localhost:8080/",
          "height": 683
        },
        "id": "LNJv7v0Qlwu0",
        "outputId": "b3a8aba8-58c3-4efd-9385-15002bb6793f"
      },
      "source": [
        "# Plotting the trend\n",
        "figure(figsize=(11, 10), dpi=80)\n",
        "dates = df_oct['ds']\n",
        "cases = df_oct['y']\n",
        "plt.plot_date(dates, cases, linestyle='solid')"
      ],
      "execution_count": 91,
      "outputs": [
        {
          "output_type": "execute_result",
          "data": {
            "text/plain": [
              "[<matplotlib.lines.Line2D at 0x7f8eaef77910>]"
            ]
          },
          "metadata": {
            "tags": []
          },
          "execution_count": 91
        },
        {
          "output_type": "display_data",
          "data": {
            "image/png": "[encoded data removed]",
            "text/plain": [
              "<Figure size 880x800 with 1 Axes>"
            ]
          },
          "metadata": {
            "tags": [],
            "needs_background": "light"
          }
        }
      ]
    },
    {
      "cell_type": "markdown",
      "metadata": {
        "id": "USfoOzrrR3EP"
      },
      "source": [
        "#**TASK 4: Using FbProphet to forecast cases for next 30 days**"
      ]
    },
    {
      "cell_type": "code",
      "metadata": {
        "colab": {
          "base_uri": "https://localhost:8080/"
        },
        "id": "_G1t6wGn6_jr",
        "outputId": "098c1151-94dd-4ba3-90fa-0f0952c53dcb"
      },
      "source": [
        "df.shape"
      ],
      "execution_count": 13,
      "outputs": [
        {
          "output_type": "execute_result",
          "data": {
            "text/plain": [
              "(576, 56)"
            ]
          },
          "metadata": {
            "tags": []
          },
          "execution_count": 13
        }
      ]
    },
    {
      "cell_type": "markdown",
      "metadata": {
        "id": "pDaI9XBVSYtn"
      },
      "source": [
        "**Finding correlation between diffrent number on features of which the total number of cases might be dependent** "
      ]
    },
    {
      "cell_type": "code",
      "metadata": {
        "colab": {
          "base_uri": "https://localhost:8080/",
          "height": 110
        },
        "id": "zzi_OzIM4qBt",
        "outputId": "4659d152-9185-4ef5-8946-79b286c3909d"
      },
      "source": [
        "df[['y', 'reproduction_rate']].corr()"
      ],
      "execution_count": 92,
      "outputs": [
        {
          "output_type": "execute_result",
          "data": {
            "text/html": [
              "<div>\n",
              "<style scoped>\n",
              "    .dataframe tbody tr th:only-of-type {\n",
              "        vertical-align: middle;\n",
              "    }\n",
              "\n",
              "    .dataframe tbody tr th {\n",
              "        vertical-align: top;\n",
              "    }\n",
              "\n",
              "    .dataframe thead th {\n",
              "        text-align: right;\n",
              "    }\n",
              "</style>\n",
              "<table border=\"1\" class=\"dataframe\">\n",
              "  <thead>\n",
              "    <tr style=\"text-align: right;\">\n",
              "      <th></th>\n",
              "      <th>y</th>\n",
              "      <th>reproduction_rate</th>\n",
              "    </tr>\n",
              "  </thead>\n",
              "  <tbody>\n",
              "    <tr>\n",
              "      <th>y</th>\n",
              "      <td>1.000000</td>\n",
              "      <td>0.462452</td>\n",
              "    </tr>\n",
              "    <tr>\n",
              "      <th>reproduction_rate</th>\n",
              "      <td>0.462452</td>\n",
              "      <td>1.000000</td>\n",
              "    </tr>\n",
              "  </tbody>\n",
              "</table>\n",
              "</div>"
            ],
            "text/plain": [
              "                          y  reproduction_rate\n",
              "y                  1.000000           0.462452\n",
              "reproduction_rate  0.462452           1.000000"
            ]
          },
          "metadata": {
            "tags": []
          },
          "execution_count": 92
        }
      ]
    },
    {
      "cell_type": "code",
      "metadata": {
        "colab": {
          "base_uri": "https://localhost:8080/",
          "height": 110
        },
        "id": "hVKwABmxarii",
        "outputId": "0373de48-46e6-4166-f948-220f30b63851"
      },
      "source": [
        "df[['y', 'new_deaths']].corr()"
      ],
      "execution_count": 93,
      "outputs": [
        {
          "output_type": "execute_result",
          "data": {
            "text/html": [
              "<div>\n",
              "<style scoped>\n",
              "    .dataframe tbody tr th:only-of-type {\n",
              "        vertical-align: middle;\n",
              "    }\n",
              "\n",
              "    .dataframe tbody tr th {\n",
              "        vertical-align: top;\n",
              "    }\n",
              "\n",
              "    .dataframe thead th {\n",
              "        text-align: right;\n",
              "    }\n",
              "</style>\n",
              "<table border=\"1\" class=\"dataframe\">\n",
              "  <thead>\n",
              "    <tr style=\"text-align: right;\">\n",
              "      <th></th>\n",
              "      <th>y</th>\n",
              "      <th>new_deaths</th>\n",
              "    </tr>\n",
              "  </thead>\n",
              "  <tbody>\n",
              "    <tr>\n",
              "      <th>y</th>\n",
              "      <td>1.000000</td>\n",
              "      <td>0.687357</td>\n",
              "    </tr>\n",
              "    <tr>\n",
              "      <th>new_deaths</th>\n",
              "      <td>0.687357</td>\n",
              "      <td>1.000000</td>\n",
              "    </tr>\n",
              "  </tbody>\n",
              "</table>\n",
              "</div>"
            ],
            "text/plain": [
              "                   y  new_deaths\n",
              "y           1.000000    0.687357\n",
              "new_deaths  0.687357    1.000000"
            ]
          },
          "metadata": {
            "tags": []
          },
          "execution_count": 93
        }
      ]
    },
    {
      "cell_type": "code",
      "metadata": {
        "colab": {
          "base_uri": "https://localhost:8080/",
          "height": 110
        },
        "id": "VGexxTQhaxHm",
        "outputId": "3b4812f7-529b-4abd-cc52-2e8f7aea6a4f"
      },
      "source": [
        "df[['y', 'new_tests']].corr()"
      ],
      "execution_count": 94,
      "outputs": [
        {
          "output_type": "execute_result",
          "data": {
            "text/html": [
              "<div>\n",
              "<style scoped>\n",
              "    .dataframe tbody tr th:only-of-type {\n",
              "        vertical-align: middle;\n",
              "    }\n",
              "\n",
              "    .dataframe tbody tr th {\n",
              "        vertical-align: top;\n",
              "    }\n",
              "\n",
              "    .dataframe thead th {\n",
              "        text-align: right;\n",
              "    }\n",
              "</style>\n",
              "<table border=\"1\" class=\"dataframe\">\n",
              "  <thead>\n",
              "    <tr style=\"text-align: right;\">\n",
              "      <th></th>\n",
              "      <th>y</th>\n",
              "      <th>new_tests</th>\n",
              "    </tr>\n",
              "  </thead>\n",
              "  <tbody>\n",
              "    <tr>\n",
              "      <th>y</th>\n",
              "      <td>1.000000</td>\n",
              "      <td>0.867797</td>\n",
              "    </tr>\n",
              "    <tr>\n",
              "      <th>new_tests</th>\n",
              "      <td>0.867797</td>\n",
              "      <td>1.000000</td>\n",
              "    </tr>\n",
              "  </tbody>\n",
              "</table>\n",
              "</div>"
            ],
            "text/plain": [
              "                  y  new_tests\n",
              "y          1.000000   0.867797\n",
              "new_tests  0.867797   1.000000"
            ]
          },
          "metadata": {
            "tags": []
          },
          "execution_count": 94
        }
      ]
    },
    {
      "cell_type": "code",
      "metadata": {
        "colab": {
          "base_uri": "https://localhost:8080/",
          "height": 110
        },
        "id": "17cHjvsLbV_f",
        "outputId": "145e0ab0-d9b8-4746-f397-192959e41d10"
      },
      "source": [
        "df[['y', 'positive_rate']].corr()"
      ],
      "execution_count": 95,
      "outputs": [
        {
          "output_type": "execute_result",
          "data": {
            "text/html": [
              "<div>\n",
              "<style scoped>\n",
              "    .dataframe tbody tr th:only-of-type {\n",
              "        vertical-align: middle;\n",
              "    }\n",
              "\n",
              "    .dataframe tbody tr th {\n",
              "        vertical-align: top;\n",
              "    }\n",
              "\n",
              "    .dataframe thead th {\n",
              "        text-align: right;\n",
              "    }\n",
              "</style>\n",
              "<table border=\"1\" class=\"dataframe\">\n",
              "  <thead>\n",
              "    <tr style=\"text-align: right;\">\n",
              "      <th></th>\n",
              "      <th>y</th>\n",
              "      <th>positive_rate</th>\n",
              "    </tr>\n",
              "  </thead>\n",
              "  <tbody>\n",
              "    <tr>\n",
              "      <th>y</th>\n",
              "      <td>1.000000</td>\n",
              "      <td>0.470595</td>\n",
              "    </tr>\n",
              "    <tr>\n",
              "      <th>positive_rate</th>\n",
              "      <td>0.470595</td>\n",
              "      <td>1.000000</td>\n",
              "    </tr>\n",
              "  </tbody>\n",
              "</table>\n",
              "</div>"
            ],
            "text/plain": [
              "                      y  positive_rate\n",
              "y              1.000000       0.470595\n",
              "positive_rate  0.470595       1.000000"
            ]
          },
          "metadata": {
            "tags": []
          },
          "execution_count": 95
        }
      ]
    },
    {
      "cell_type": "code",
      "metadata": {
        "colab": {
          "base_uri": "https://localhost:8080/",
          "height": 110
        },
        "id": "uz_oU1OvbaGD",
        "outputId": "2819f9fe-ba4d-41aa-c0f1-41fec59d85b0"
      },
      "source": [
        "df[['y', 'new_vaccinations']].corr()"
      ],
      "execution_count": 96,
      "outputs": [
        {
          "output_type": "execute_result",
          "data": {
            "text/html": [
              "<div>\n",
              "<style scoped>\n",
              "    .dataframe tbody tr th:only-of-type {\n",
              "        vertical-align: middle;\n",
              "    }\n",
              "\n",
              "    .dataframe tbody tr th {\n",
              "        vertical-align: top;\n",
              "    }\n",
              "\n",
              "    .dataframe thead th {\n",
              "        text-align: right;\n",
              "    }\n",
              "</style>\n",
              "<table border=\"1\" class=\"dataframe\">\n",
              "  <thead>\n",
              "    <tr style=\"text-align: right;\">\n",
              "      <th></th>\n",
              "      <th>y</th>\n",
              "      <th>new_vaccinations</th>\n",
              "    </tr>\n",
              "  </thead>\n",
              "  <tbody>\n",
              "    <tr>\n",
              "      <th>y</th>\n",
              "      <td>1.000000</td>\n",
              "      <td>0.856021</td>\n",
              "    </tr>\n",
              "    <tr>\n",
              "      <th>new_vaccinations</th>\n",
              "      <td>0.856021</td>\n",
              "      <td>1.000000</td>\n",
              "    </tr>\n",
              "  </tbody>\n",
              "</table>\n",
              "</div>"
            ],
            "text/plain": [
              "                         y  new_vaccinations\n",
              "y                 1.000000          0.856021\n",
              "new_vaccinations  0.856021          1.000000"
            ]
          },
          "metadata": {
            "tags": []
          },
          "execution_count": 96
        }
      ]
    },
    {
      "cell_type": "code",
      "metadata": {
        "colab": {
          "base_uri": "https://localhost:8080/",
          "height": 110
        },
        "id": "w9bfer7Mbu8Q",
        "outputId": "d27e0eed-7948-4078-feb3-5eddc9567687"
      },
      "source": [
        "df[['y', 'population']].corr()"
      ],
      "execution_count": 97,
      "outputs": [
        {
          "output_type": "execute_result",
          "data": {
            "text/html": [
              "<div>\n",
              "<style scoped>\n",
              "    .dataframe tbody tr th:only-of-type {\n",
              "        vertical-align: middle;\n",
              "    }\n",
              "\n",
              "    .dataframe tbody tr th {\n",
              "        vertical-align: top;\n",
              "    }\n",
              "\n",
              "    .dataframe thead th {\n",
              "        text-align: right;\n",
              "    }\n",
              "</style>\n",
              "<table border=\"1\" class=\"dataframe\">\n",
              "  <thead>\n",
              "    <tr style=\"text-align: right;\">\n",
              "      <th></th>\n",
              "      <th>y</th>\n",
              "      <th>population</th>\n",
              "    </tr>\n",
              "  </thead>\n",
              "  <tbody>\n",
              "    <tr>\n",
              "      <th>y</th>\n",
              "      <td>1.000000</td>\n",
              "      <td>0.335904</td>\n",
              "    </tr>\n",
              "    <tr>\n",
              "      <th>population</th>\n",
              "      <td>0.335904</td>\n",
              "      <td>1.000000</td>\n",
              "    </tr>\n",
              "  </tbody>\n",
              "</table>\n",
              "</div>"
            ],
            "text/plain": [
              "                   y  population\n",
              "y           1.000000    0.335904\n",
              "population  0.335904    1.000000"
            ]
          },
          "metadata": {
            "tags": []
          },
          "execution_count": 97
        }
      ]
    },
    {
      "cell_type": "code",
      "metadata": {
        "id": "IU72R4JB41WB"
      },
      "source": [
        "# Importing Prophet\n",
        "from fbprophet import Prophet"
      ],
      "execution_count": 99,
      "outputs": []
    },
    {
      "cell_type": "code",
      "metadata": {
        "id": "2aZJggJc5EPn"
      },
      "source": [
        "# Initializing the model\n",
        "m = Prophet(interval_width=0.90,yearly_seasonality=True)"
      ],
      "execution_count": 100,
      "outputs": []
    },
    {
      "cell_type": "code",
      "metadata": {
        "colab": {
          "base_uri": "https://localhost:8080/"
        },
        "id": "qCt-8JJM5pCy",
        "outputId": "a6aea177-fa96-4045-cdc8-3ba0e0bf97c1"
      },
      "source": [
        "# Adding features to the model on which our target variable totla_cases depends\n",
        "m.add_regressor('reproduction_rate', standardize=False)\n",
        "m.add_regressor('new_tests', standardize=False)\n",
        "m.add_regressor('positive_rate', standardize=False)\n",
        "m.add_regressor('new_vaccinations', standardize=False)\n",
        "m.add_regressor('population', standardize=False)\n",
        "m.add_regressor('new_deaths', standardize=False)"
      ],
      "execution_count": 101,
      "outputs": [
        {
          "output_type": "execute_result",
          "data": {
            "text/plain": [
              "<fbprophet.forecaster.Prophet at 0x7f8eba044ed0>"
            ]
          },
          "metadata": {
            "tags": []
          },
          "execution_count": 101
        }
      ]
    },
    {
      "cell_type": "code",
      "metadata": {
        "colab": {
          "base_uri": "https://localhost:8080/"
        },
        "id": "RX-4Foq46izU",
        "outputId": "a4e73291-7239-4418-ef9f-a073bf016609"
      },
      "source": [
        "# Fitting the model\n",
        "m.fit(df)"
      ],
      "execution_count": 102,
      "outputs": [
        {
          "output_type": "stream",
          "text": [
            "INFO:numexpr.utils:NumExpr defaulting to 2 threads.\n",
            "INFO:fbprophet:Disabling daily seasonality. Run prophet with daily_seasonality=True to override this.\n",
            "WARNING:fbprophet.models:Optimization terminated abnormally. Falling back to Newton.\n"
          ],
          "name": "stderr"
        },
        {
          "output_type": "execute_result",
          "data": {
            "text/plain": [
              "<fbprophet.forecaster.Prophet at 0x7f8eba044ed0>"
            ]
          },
          "metadata": {
            "tags": []
          },
          "execution_count": 102
        }
      ]
    },
    {
      "cell_type": "code",
      "metadata": {
        "colab": {
          "base_uri": "https://localhost:8080/",
          "height": 202
        },
        "id": "DmLICZme8Bla",
        "outputId": "077d278b-fa2b-4c1a-ab71-3e631f00abe7"
      },
      "source": [
        "# Making new DataFrame containing next 30 days\n",
        "future = m.make_future_dataframe(periods=30)\n",
        "future.tail()"
      ],
      "execution_count": 103,
      "outputs": [
        {
          "output_type": "execute_result",
          "data": {
            "text/html": [
              "<div>\n",
              "<style scoped>\n",
              "    .dataframe tbody tr th:only-of-type {\n",
              "        vertical-align: middle;\n",
              "    }\n",
              "\n",
              "    .dataframe tbody tr th {\n",
              "        vertical-align: top;\n",
              "    }\n",
              "\n",
              "    .dataframe thead th {\n",
              "        text-align: right;\n",
              "    }\n",
              "</style>\n",
              "<table border=\"1\" class=\"dataframe\">\n",
              "  <thead>\n",
              "    <tr style=\"text-align: right;\">\n",
              "      <th></th>\n",
              "      <th>ds</th>\n",
              "    </tr>\n",
              "  </thead>\n",
              "  <tbody>\n",
              "    <tr>\n",
              "      <th>601</th>\n",
              "      <td>2021-08-24</td>\n",
              "    </tr>\n",
              "    <tr>\n",
              "      <th>602</th>\n",
              "      <td>2021-08-25</td>\n",
              "    </tr>\n",
              "    <tr>\n",
              "      <th>603</th>\n",
              "      <td>2021-08-26</td>\n",
              "    </tr>\n",
              "    <tr>\n",
              "      <th>604</th>\n",
              "      <td>2021-08-27</td>\n",
              "    </tr>\n",
              "    <tr>\n",
              "      <th>605</th>\n",
              "      <td>2021-08-28</td>\n",
              "    </tr>\n",
              "  </tbody>\n",
              "</table>\n",
              "</div>"
            ],
            "text/plain": [
              "            ds\n",
              "601 2021-08-24\n",
              "602 2021-08-25\n",
              "603 2021-08-26\n",
              "604 2021-08-27\n",
              "605 2021-08-28"
            ]
          },
          "metadata": {
            "tags": []
          },
          "execution_count": 103
        }
      ]
    },
    {
      "cell_type": "code",
      "metadata": {
        "id": "4n7LKdoR9J7t"
      },
      "source": [
        "# Adding the features to that DataFrame\n",
        "future['reproduction_rate'] = df['reproduction_rate']\n",
        "future['new_tests'] = df['new_tests']\n",
        "future['positive_rate'] = df['positive_rate']\n",
        "future['new_vaccinations'] = df['new_vaccinations']\n",
        "future['population'] = df['population']\n",
        "future['new_deaths'] = df['new_deaths']\n",
        "future = future.fillna(0)"
      ],
      "execution_count": 104,
      "outputs": []
    },
    {
      "cell_type": "code",
      "metadata": {
        "colab": {
          "base_uri": "https://localhost:8080/",
          "height": 202
        },
        "id": "IeBau3LD9jnr",
        "outputId": "22fc2bd0-a1c1-465f-d16b-04dfb083fb15"
      },
      "source": [
        "# Predicicting the cases\n",
        "forecast = m.predict(future)\n",
        "forecast[['ds', 'yhat', 'yhat_lower', 'yhat_upper']].tail()"
      ],
      "execution_count": 105,
      "outputs": [
        {
          "output_type": "execute_result",
          "data": {
            "text/html": [
              "<div>\n",
              "<style scoped>\n",
              "    .dataframe tbody tr th:only-of-type {\n",
              "        vertical-align: middle;\n",
              "    }\n",
              "\n",
              "    .dataframe tbody tr th {\n",
              "        vertical-align: top;\n",
              "    }\n",
              "\n",
              "    .dataframe thead th {\n",
              "        text-align: right;\n",
              "    }\n",
              "</style>\n",
              "<table border=\"1\" class=\"dataframe\">\n",
              "  <thead>\n",
              "    <tr style=\"text-align: right;\">\n",
              "      <th></th>\n",
              "      <th>ds</th>\n",
              "      <th>yhat</th>\n",
              "      <th>yhat_lower</th>\n",
              "      <th>yhat_upper</th>\n",
              "    </tr>\n",
              "  </thead>\n",
              "  <tbody>\n",
              "    <tr>\n",
              "      <th>601</th>\n",
              "      <td>2021-08-24</td>\n",
              "      <td>2.096784e+08</td>\n",
              "      <td>2.071574e+08</td>\n",
              "      <td>2.122968e+08</td>\n",
              "    </tr>\n",
              "    <tr>\n",
              "      <th>602</th>\n",
              "      <td>2021-08-25</td>\n",
              "      <td>2.102191e+08</td>\n",
              "      <td>2.075195e+08</td>\n",
              "      <td>2.129957e+08</td>\n",
              "    </tr>\n",
              "    <tr>\n",
              "      <th>603</th>\n",
              "      <td>2021-08-26</td>\n",
              "      <td>2.107699e+08</td>\n",
              "      <td>2.079207e+08</td>\n",
              "      <td>2.136382e+08</td>\n",
              "    </tr>\n",
              "    <tr>\n",
              "      <th>604</th>\n",
              "      <td>2021-08-27</td>\n",
              "      <td>2.113162e+08</td>\n",
              "      <td>2.082926e+08</td>\n",
              "      <td>2.143756e+08</td>\n",
              "    </tr>\n",
              "    <tr>\n",
              "      <th>605</th>\n",
              "      <td>2021-08-28</td>\n",
              "      <td>2.118303e+08</td>\n",
              "      <td>2.086417e+08</td>\n",
              "      <td>2.150467e+08</td>\n",
              "    </tr>\n",
              "  </tbody>\n",
              "</table>\n",
              "</div>"
            ],
            "text/plain": [
              "            ds          yhat    yhat_lower    yhat_upper\n",
              "601 2021-08-24  2.096784e+08  2.071574e+08  2.122968e+08\n",
              "602 2021-08-25  2.102191e+08  2.075195e+08  2.129957e+08\n",
              "603 2021-08-26  2.107699e+08  2.079207e+08  2.136382e+08\n",
              "604 2021-08-27  2.113162e+08  2.082926e+08  2.143756e+08\n",
              "605 2021-08-28  2.118303e+08  2.086417e+08  2.150467e+08"
            ]
          },
          "metadata": {
            "tags": []
          },
          "execution_count": 105
        }
      ]
    },
    {
      "cell_type": "code",
      "metadata": {
        "colab": {
          "base_uri": "https://localhost:8080/",
          "height": 441
        },
        "id": "fp90Z9Z2-aYY",
        "outputId": "efaf4a88-ecdc-4720-97f3-91346ba3234b"
      },
      "source": [
        "# Plot of the prediction\n",
        "fig1 = m.plot(forecast)"
      ],
      "execution_count": 106,
      "outputs": [
        {
          "output_type": "display_data",
          "data": {
            "image/png": "[encoded data removed]",
            "text/plain": [
              "<Figure size 720x432 with 1 Axes>"
            ]
          },
          "metadata": {
            "tags": []
          }
        }
      ]
    },
    {
      "cell_type": "code",
      "metadata": {
        "colab": {
          "base_uri": "https://localhost:8080/",
          "height": 1000
        },
        "id": "1WsfDwfi-7vO",
        "outputId": "08ac3695-2104-4c7b-d885-9c12671d15d6"
      },
      "source": [
        "m.plot_components(forecast)"
      ],
      "execution_count": 107,
      "outputs": [
        {
          "output_type": "execute_result",
          "data": {
            "image/png": "[encoded data removed]",
            "text/plain": [
              "<Figure size 648x864 with 4 Axes>"
            ]
          },
          "metadata": {
            "tags": []
          },
          "execution_count": 107
        },
        {
          "output_type": "display_data",
          "data": {
            "image/png": "[encoded data removed]",
            "text/plain": [
              "<Figure size 648x864 with 4 Axes>"
            ]
          },
          "metadata": {
            "tags": []
          }
        }
      ]
    },
    {
      "cell_type": "markdown",
      "metadata": {
        "id": "nUnxk5xiTcoS"
      },
      "source": [
        "1. Trend shows a upward trajectory.\n",
        "2. There was a dip in cases in November 2020 but after that they started rising again.\n",
        "3. Cases on Mondays and Tuesdays seem to be lower beacause at many places many testing facilites are closed on sunday and the data on the initial day is from one day before."
      ]
    },
    {
      "cell_type": "code",
      "metadata": {
        "colab": {
          "base_uri": "https://localhost:8080/",
          "height": 358,
          "referenced_widgets": [
            "4aabe15a2f7b4209812d20ee0bcaae2b",
            "8918c1a6d97f4088b0c9098f11f18789",
            "58b3a0d953a1493da1631930a71face9",
            "e686fd073da643528b57924806dfa46f",
            "f93a2479031442df9f9279cb3fa0d2ec",
            "587fe49274774e0da747d2e9f082de29",
            "ff2603dd4e7b4e21a290175ac6a22ec9",
            "a7a6565b9c724605ae2965c9a1846f15"
          ]
        },
        "id": "aOjzWp02d7Ku",
        "outputId": "e20cb017-1fb2-4de2-cc53-58d22c24a238"
      },
      "source": [
        "# Using cross validation\n",
        "from fbprophet.diagnostics import cross_validation, performance_metrics\n",
        "cv_results = cross_validation(model = m, period='30 days', horizon = '60 days')\n",
        "cv_results.head()"
      ],
      "execution_count": 108,
      "outputs": [
        {
          "output_type": "stream",
          "text": [
            "INFO:fbprophet:Making 5 forecasts with cutoffs between 2021-01-30 00:00:00 and 2021-05-30 00:00:00\n"
          ],
          "name": "stderr"
        },
        {
          "output_type": "display_data",
          "data": {
            "application/vnd.jupyter.widget-view+json": {
              "model_id": "4aabe15a2f7b4209812d20ee0bcaae2b",
              "version_minor": 0,
              "version_major": 2
            },
            "text/plain": [
              "HBox(children=(FloatProgress(value=0.0, max=5.0), HTML(value='')))"
            ]
          },
          "metadata": {
            "tags": []
          }
        },
        {
          "output_type": "stream",
          "text": [
            "WARNING:fbprophet.models:Optimization terminated abnormally. Falling back to Newton.\n",
            "WARNING:fbprophet.models:Optimization terminated abnormally. Falling back to Newton.\n",
            "WARNING:fbprophet.models:Optimization terminated abnormally. Falling back to Newton.\n",
            "WARNING:fbprophet.models:Optimization terminated abnormally. Falling back to Newton.\n",
            "WARNING:fbprophet.models:Optimization terminated abnormally. Falling back to Newton.\n"
          ],
          "name": "stderr"
        },
        {
          "output_type": "stream",
          "text": [
            "\n"
          ],
          "name": "stdout"
        },
        {
          "output_type": "execute_result",
          "data": {
            "text/html": [
              "<div>\n",
              "<style scoped>\n",
              "    .dataframe tbody tr th:only-of-type {\n",
              "        vertical-align: middle;\n",
              "    }\n",
              "\n",
              "    .dataframe tbody tr th {\n",
              "        vertical-align: top;\n",
              "    }\n",
              "\n",
              "    .dataframe thead th {\n",
              "        text-align: right;\n",
              "    }\n",
              "</style>\n",
              "<table border=\"1\" class=\"dataframe\">\n",
              "  <thead>\n",
              "    <tr style=\"text-align: right;\">\n",
              "      <th></th>\n",
              "      <th>ds</th>\n",
              "      <th>yhat</th>\n",
              "      <th>yhat_lower</th>\n",
              "      <th>yhat_upper</th>\n",
              "      <th>y</th>\n",
              "      <th>cutoff</th>\n",
              "    </tr>\n",
              "  </thead>\n",
              "  <tbody>\n",
              "    <tr>\n",
              "      <th>0</th>\n",
              "      <td>2021-01-31</td>\n",
              "      <td>1.030764e+08</td>\n",
              "      <td>1.029450e+08</td>\n",
              "      <td>1.032140e+08</td>\n",
              "      <td>103061745.0</td>\n",
              "      <td>2021-01-30</td>\n",
              "    </tr>\n",
              "    <tr>\n",
              "      <th>1</th>\n",
              "      <td>2021-02-01</td>\n",
              "      <td>1.035187e+08</td>\n",
              "      <td>1.033838e+08</td>\n",
              "      <td>1.036500e+08</td>\n",
              "      <td>103508402.0</td>\n",
              "      <td>2021-01-30</td>\n",
              "    </tr>\n",
              "    <tr>\n",
              "      <th>2</th>\n",
              "      <td>2021-02-02</td>\n",
              "      <td>1.039864e+08</td>\n",
              "      <td>1.038453e+08</td>\n",
              "      <td>1.041331e+08</td>\n",
              "      <td>103966450.0</td>\n",
              "      <td>2021-01-30</td>\n",
              "    </tr>\n",
              "    <tr>\n",
              "      <th>3</th>\n",
              "      <td>2021-02-03</td>\n",
              "      <td>1.044829e+08</td>\n",
              "      <td>1.043331e+08</td>\n",
              "      <td>1.046249e+08</td>\n",
              "      <td>104488525.0</td>\n",
              "      <td>2021-01-30</td>\n",
              "    </tr>\n",
              "    <tr>\n",
              "      <th>4</th>\n",
              "      <td>2021-02-04</td>\n",
              "      <td>1.049936e+08</td>\n",
              "      <td>1.048214e+08</td>\n",
              "      <td>1.051368e+08</td>\n",
              "      <td>104955456.0</td>\n",
              "      <td>2021-01-30</td>\n",
              "    </tr>\n",
              "  </tbody>\n",
              "</table>\n",
              "</div>"
            ],
            "text/plain": [
              "          ds          yhat    yhat_lower    yhat_upper            y     cutoff\n",
              "0 2021-01-31  1.030764e+08  1.029450e+08  1.032140e+08  103061745.0 2021-01-30\n",
              "1 2021-02-01  1.035187e+08  1.033838e+08  1.036500e+08  103508402.0 2021-01-30\n",
              "2 2021-02-02  1.039864e+08  1.038453e+08  1.041331e+08  103966450.0 2021-01-30\n",
              "3 2021-02-03  1.044829e+08  1.043331e+08  1.046249e+08  104488525.0 2021-01-30\n",
              "4 2021-02-04  1.049936e+08  1.048214e+08  1.051368e+08  104955456.0 2021-01-30"
            ]
          },
          "metadata": {
            "tags": []
          },
          "execution_count": 108
        }
      ]
    },
    {
      "cell_type": "code",
      "metadata": {
        "id": "kFf_PtO-i9fe"
      },
      "source": [
        "df_p = performance_metrics(cv_results)"
      ],
      "execution_count": 109,
      "outputs": []
    },
    {
      "cell_type": "code",
      "metadata": {
        "colab": {
          "base_uri": "https://localhost:8080/",
          "height": 398
        },
        "id": "BgAwmL9qjDcL",
        "outputId": "2da75b84-bcb9-423f-ef4d-304904241a75"
      },
      "source": [
        "# Checking our model's metrics\n",
        "from fbprophet.plot import plot_cross_validation_metric\n",
        "fig2 = plot_cross_validation_metric(cv_results, metric='mae')"
      ],
      "execution_count": 111,
      "outputs": [
        {
          "output_type": "display_data",
          "data": {
            "image/png": "[encoded data removed]",
            "text/plain": [
              "<Figure size 720x432 with 1 Axes>"
            ]
          },
          "metadata": {
            "tags": []
          }
        }
      ]
    }
  ]
}